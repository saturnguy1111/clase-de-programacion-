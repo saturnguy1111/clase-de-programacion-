{
  "nbformat": 4,
  "nbformat_minor": 0,
  "metadata": {
    "colab": {
      "provenance": []
    },
    "kernelspec": {
      "name": "python3",
      "display_name": "Python 3"
    },
    "language_info": {
      "name": "python"
    }
  },
  "cells": [
    {
      "cell_type": "code",
      "execution_count": null,
      "metadata": {
        "id": "WKeWVQWVuNTt"
      },
      "outputs": [],
      "source": [
        "LISTAS POR COMPRENSIÓN"
      ]
    },
    {
      "cell_type": "markdown",
      "source": [
        "#Donde se selecciona el valor de la primera lista si al iterar sobre la segunda también se encuentra en esta.  \n",
        "nom1 = ['Samuelle' ,'Angie' ,'Valentina', 'Alejandro', 'Jonsito']\n",
        "nom2 = ['Samuelle' ,'Andrea' ,'Samdra', 'Anderson', 'Jonsito']\n",
        "common = [a for a in nom1 for b in nom2 if a == b]\n",
        "common\n",
        "\n"
      ],
      "metadata": {
        "id": "McDZFpCiuTGv"
      }
    },
    {
      "cell_type": "code",
      "source": [
        "super1=([\"arroz\", \"carne\", \"pechuga\", \"cebolla\", \"papa\"])\n",
        "super2=([\"carne\", \"cebolla\" \" maíz\", \"Panela\"])\n",
        "super3=([\"consomé\", \"cebolla\", \"avena\", \"carne\"])\n",
        "\n",
        "print(set(super1) & set(super2) & set(super3))"
      ],
      "metadata": {
        "id": "yvkz8oGHuYcP"
      },
      "execution_count": null,
      "outputs": []
    },
    {
      "cell_type": "code",
      "source": [
        "super=super1+super2+super3\n",
        "super"
      ],
      "metadata": {
        "id": "K_GvTnuFuajQ"
      },
      "execution_count": null,
      "outputs": []
    },
    {
      "cell_type": "code",
      "source": [
        "comun=[comida for comida in super if comida != super.index(comida)]\n",
        "comun"
      ],
      "metadata": {
        "id": "91xOOkz_ucX_"
      },
      "execution_count": null,
      "outputs": []
    },
    {
      "cell_type": "code",
      "source": [
        "nums = [1, 5, 2, 1, 4, 5, 1]\n",
        " \n",
        "dup = [x for i, x in enumerate(super) if i != super.index(x)]\n",
        "dup"
      ],
      "metadata": {
        "id": "ad1IL8eXue9O"
      },
      "execution_count": null,
      "outputs": []
    }
  ]
}