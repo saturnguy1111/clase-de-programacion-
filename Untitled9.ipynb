{
  "nbformat": 4,
  "nbformat_minor": 0,
  "metadata": {
    "colab": {
      "provenance": []
    },
    "kernelspec": {
      "name": "python3",
      "display_name": "Python 3"
    },
    "language_info": {
      "name": "python"
    }
  },
  "cells": [
    {
      "cell_type": "code",
      "execution_count": 19,
      "metadata": {
        "colab": {
          "base_uri": "https://localhost:8080/"
        },
        "id": "LB2CgshSkD16",
        "outputId": "920134f2-c902-4913-b7fd-d8c778c6aace"
      },
      "outputs": [
        {
          "output_type": "stream",
          "name": "stdout",
          "text": [
            "15\n"
          ]
        }
      ],
      "source": [
        "lista=[1,2,3,4,5]\n",
        "def suma(lista):\n",
        "  suma=0\n",
        "  for elemento in lista:\n",
        "    suma += elemento\n",
        "  return suma\n",
        "print(suma(lista))"
      ]
    },
    {
      "cell_type": "code",
      "source": [
        "numbers = [1, 2, 3, 4]\n",
        "results = [n + 1 if n < 3 else n for n in numbers]\n",
        "results"
      ],
      "metadata": {
        "id": "JDDIz0Vxnjs9",
        "colab": {
          "base_uri": "https://localhost:8080/"
        },
        "outputId": "525fef7c-5a6b-427c-f600-f27a493b66d1"
      },
      "execution_count": 4,
      "outputs": [
        {
          "output_type": "execute_result",
          "data": {
            "text/plain": [
              "[2, 3, 3, 4]"
            ]
          },
          "metadata": {},
          "execution_count": 4
        }
      ]
    },
    {
      "cell_type": "code",
      "source": [],
      "metadata": {
        "id": "_wTpcGPguAHi"
      },
      "execution_count": null,
      "outputs": []
    },
    {
      "cell_type": "code",
      "source": [
        "numeros = [1,2,3,4,5,6,7,8,9,10]\n",
        "suma_de_numeros= sum(numeros)\n",
        "print(suma_de_numeros)"
      ],
      "metadata": {
        "colab": {
          "base_uri": "https://localhost:8080/"
        },
        "id": "lwaPh87nrZrj",
        "outputId": "6237fc42-d45d-450b-dfd4-48f4c76c457c"
      },
      "execution_count": 1,
      "outputs": [
        {
          "output_type": "stream",
          "name": "stdout",
          "text": [
            "55\n"
          ]
        }
      ]
    },
    {
      "cell_type": "code",
      "source": [
        "valor = 6\n",
        "f = factorial(valor)\n",
        "print(f\"El factorial de {valor} es {f}\")\n"
      ],
      "metadata": {
        "colab": {
          "base_uri": "https://localhost:8080/"
        },
        "id": "1Q7GKjIauAjC",
        "outputId": "8828f1f9-4a6d-46f4-dab5-dc745df93207"
      },
      "execution_count": 23,
      "outputs": [
        {
          "output_type": "stream",
          "name": "stdout",
          "text": [
            "El factorial de 6 es 720\n"
          ]
        }
      ]
    }
  ]
}