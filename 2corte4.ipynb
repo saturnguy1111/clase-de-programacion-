{
  "nbformat": 4,
  "nbformat_minor": 0,
  "metadata": {
    "colab": {
      "provenance": []
    },
    "kernelspec": {
      "name": "python3",
      "display_name": "Python 3"
    },
    "language_info": {
      "name": "python"
    }
  },
  "cells": [
    {
      "cell_type": "code",
      "execution_count": null,
      "metadata": {
        "id": "RchI_3vPxCWr"
      },
      "outputs": [],
      "source": [
        "METODOS\n",
        "Un método es una función la cual es propiedad de un objeto. Existen dos tipos de métodos: Métodos de Instancia y los Métodos Estáticos.\n",
        "\n",
        "METODOS DE INSTANCIA\n",
        "Los métodos de instancia son los métodos normales, de toda la vida, Reciben como parámetro de entrada self que hace referencia a la instancia que llama al método."
      ]
    },
    {
      "cell_type": "markdown",
      "source": [
        "class perro:\n",
        "  peso=30\n",
        "\n",
        "  def __init__(self, pesp):\n",
        "    self.peso = peso\n",
        "\n",
        "  def get_peso_promedio(cls):\n",
        "    return perro.peso \n",
        "     \n",
        "labrador=perro(25)"
      ],
      "metadata": {
        "id": "P6zD7lrhxHt7"
      }
    },
    {
      "cell_type": "code",
      "source": [
        "METODO INIT\n",
        "El objetivo fundamental del método init es inicializar los atributos del objeto que creamos."
      ],
      "metadata": {
        "id": "KYa292-BxPeQ"
      },
      "execution_count": null,
      "outputs": []
    },
    {
      "cell_type": "code",
      "source": [
        "class punto:\n",
        "  def __init__(self,x,y):\n",
        "    self.x=x\n",
        "    self.y=Y"
      ],
      "metadata": {
        "id": "9fFT57ctxQU4"
      },
      "execution_count": null,
      "outputs": []
    },
    {
      "cell_type": "code",
      "source": [
        "class punto:\n",
        "\n",
        "  def __init__(self,x,y):\n",
        "    self.x=x\n",
        "    self.y=y \n",
        "\n",
        "  def __str__(self):\n",
        "    return\"(\"+str(self.x)+\",\"+str(self.y)+\")\" \n",
        "     \n",
        "#bloque principal \n",
        "punto1=punto(10,3)\n",
        "punto2=punto(3,4)\n",
        "print(punto1)\n",
        "print(punto2)"
      ],
      "metadata": {
        "id": "QaIYd-MQxTEQ"
      },
      "execution_count": null,
      "outputs": []
    },
    {
      "cell_type": "code",
      "source": [
        "class Empleado:\n",
        "\n",
        "    def __init__(self):\n",
        "        self.nombre=input(\"Ingrese el nombre del empleado:\")\n",
        "        self.sueldo=float(input(\"Ingrese el sueldo:\"))\n",
        "\n",
        "    def imprimir(self):\n",
        "        print(\"Nombre:\",self.nombre)\n",
        "        print(\"Sueldo:\",self.sueldo)\n",
        "\n",
        "    def paga_impuestos(self):\n",
        "        if self.sueldo>8000:\n",
        "            print(\"Debe pagar impuestos\")\n",
        "        else:\n",
        "            print(\"No paga impuestos\")\n",
        "\n",
        "\n",
        "# bloque principal\n",
        "\n",
        "empleado1=Empleado()\n",
        "empleado1.imprimir()\n",
        "empleado1.paga_impuestos()"
      ],
      "metadata": {
        "id": "oFVceVuHxVAA"
      },
      "execution_count": null,
      "outputs": []
    },
    {
      "cell_type": "code",
      "source": [
        "class Ninjas:\n",
        "  def __init__(self,hp,resistencia,xp,vidas):"
      ],
      "metadata": {
        "id": "9c8jHQ8kxWwQ"
      },
      "execution_count": null,
      "outputs": []
    },
    {
      "cell_type": "code",
      "source": [
        "class Cuenta:\n",
        "\n",
        "    def __init__(self,titular,cantidad=0,bonificacion=0):\n",
        "        super().__init__(titular,cantidad)\n",
        "        self.bonificacion=bonificacion\n",
        "    \n",
        "    \n",
        "    def bonificacion(self):\n",
        "        return self.__bonificacion\n",
        "    \n",
        "   \n",
        "    def bonificacion(self,bonificacion):\n",
        "        self.__bonificacion=bonificacion\n",
        "\n",
        "    def mostrar(self):\n",
        "        return \"Cuenta \\n\"+\"Titular:\"+self.titular.mostrar()+\" - Cantidad:\"+str(self.cantidad)+ \"- Bonificación:\"+str(self.bonificacion)+\"%\"\n",
        "   \n",
        "    \n",
        "    def retirar(self,cantidad):\n",
        "        if not self.esTitularValido():\n",
        "            print (\"No puesdes retirar el dinero. titular no válido\")\n",
        "        elif cantidad > 0:\n",
        "            super().retirar(cantidad)"
      ],
      "metadata": {
        "id": "xc7hwSkpxYqw"
      },
      "execution_count": null,
      "outputs": []
    }
  ]
}