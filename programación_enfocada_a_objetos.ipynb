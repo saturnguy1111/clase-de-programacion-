{
  "nbformat": 4,
  "nbformat_minor": 0,
  "metadata": {
    "colab": {
      "provenance": []
    },
    "kernelspec": {
      "name": "python3",
      "display_name": "Python 3"
    },
    "language_info": {
      "name": "python"
    }
  },
  "cells": [
    {
      "cell_type": "code",
      "execution_count": null,
      "metadata": {
        "id": "VEw9aJZpyRJG"
      },
      "outputs": [],
      "source": [
        "class Saiyajin():\n",
        "  def __init__(self,nombre,ccabello,cojos,cola_mono,estatura):\n",
        "    self.nombre=nombre\n",
        "    self._ccabello=\"negro\"\n",
        "    self.cojos=\"negro\"\n",
        "    self._cola_mono=True\n",
        "    self.estatura=estatura\n",
        "  def cambio_color(self,putisteria):\n",
        "    if putisteria>=4000 and putisteria<100000:\n",
        "      self.ccabello=\"rubio\"\n",
        "      self.cojos=\"aguamarina\"\n",
        "    elif putisteria>=1000000 and putisteria<200000:\n",
        "      self.ccabello=\"rojo\"\n",
        "      self.cojos=\"rosita\"\n",
        "    elif putisteria>=2000000 and putisteria<500000:\n",
        "      self.ccabello=\"blue\"\n",
        "      self.cojos=\"azul azul\"\n",
        "    elif putisteria>=2000000 and putisteria<500000:\n",
        "      self.ccabello=\"cenizo\"\n",
        "      self.cojos=\"plateado\"\n",
        "    else:\n",
        "      self.ccabello=\"negro\"\n",
        "      self.cojos=\"negro\"\n",
        "  def trabajo (self,t):\n",
        "    if t==1: print(self.nombre, \"es guerrero.\")\n",
        "    elif t==2: print(f\"{self.nombre,} es liendra de freezer.\")\n",
        "    elif t==3: print(f\"{self.nombre}, es mercenario.\")\n",
        "    elif t==4: print(f\"{self.nombre}, es de la realeza.\")\n",
        "    else: print(f\"{self.nombre}, es Nini xD\")"
      ]
    },
    {
      "cell_type": "code",
      "source": [
        "class Humanos():\n",
        "  def __init__(self,nombre,ccabello,cojos,estatura):\n",
        "    self.nombre=nombre\n",
        "    self._ccabello=\"negro\"\n",
        "    self.cojos=\"negro\"\n",
        "    self.estatura=estatura\n",
        "  def cambio_color(self,putisteria):\n",
        "    if putisteria>=4000 and putisteria<100000:\n",
        "      self.ccabello=\"rubio\"\n",
        "      self.cojos=\"aguamarina\"\n",
        "    elif putisteria>=1000000 and putisteria<200000:\n",
        "      self.ccabello=\"rojo\"\n",
        "      self.cojos=\"rosita\"\n",
        "    elif putisteria>=2000000 and putisteria<500000:\n",
        "      self.ccabello=\"blue\"\n",
        "      self.cojos=\"azul azul\"\n",
        "    elif putisteria>=2000000 and putisteria<500000:\n",
        "      self.ccabello=\"cenizo\"\n",
        "      self.cojos=\"plateado\"\n",
        "    else:\n",
        "      self.ccabello=\"negro\"\n",
        "      self.cojos=\"negro\"\n",
        "  def trabajo (self,t):\n",
        "    if t==1: print(self.nombre, \"es periodista.\")\n",
        "    elif t==2: print(f\"{self.nombre,} es político.\")\n",
        "    elif t==3: print(f\"{self.nombre} es de la patrulla roja.\")\n",
        "    elif t==4: print(f\"{self.nombre} trabaja en capsule corps.\")\n",
        "    elif t==5: print(f\"{self.nombre} es policía.\")\n",
        "    elif t==6: print(f\"{self.nombre} es granjero.\")\n",
        "    else: print(f\"{self.nombre}, es Nini xD\")"
      ],
      "metadata": {
        "id": "8yHixhWqyVtm"
      },
      "execution_count": null,
      "outputs": []
    },
    {
      "cell_type": "code",
      "source": [
        "saya1=Saiyajin(\"Jhonsito\",\"Aguamarina\",\"Arcoiris\",False,180)\n",
        "saya1.cambio_color(10000000)\n",
        "saya1.__dict__"
      ],
      "metadata": {
        "id": "ktahqDaWyYjN"
      },
      "execution_count": null,
      "outputs": []
    },
    {
      "cell_type": "code",
      "source": [
        "class Hibrido (Saiyajin,Humanos):\n",
        " def cambio_color(self,putisteria):\n",
        "   super().cambio_color(putisteria)\n",
        "   if putisteria>=10000000000 and putisteria<10000000000000000:\n",
        "      self.ccabello=\"blanco\"\n",
        "      self.cojos=\"rojo\"   \n",
        "      print (f\"{self.nombre} puede ser una bestia bonita Lol :>\")\n"
      ],
      "metadata": {
        "id": "QifaRSpSyaW1"
      },
      "execution_count": null,
      "outputs": []
    },
    {
      "cell_type": "code",
      "source": [
        "saya1=Saiyajin(\"jonsito\",180)\n",
        "saya1=Saiyajin(\"jonsito\",\"Aguamarina\",\"Arcoiris\" False,180)\n",
        "saya1.ccabello=\"Aguamarina\"\n",
        "saya1.__dict__\n",
        "saya1._ccabello=\"amarrillo con brillitos\"\n",
        "saya1.ccabello=\"Aguamarina\"\n",
        "saya1.__cola_mono=False\n",
        "human=humanos"
      ],
      "metadata": {
        "id": "aeIFELPPycrN"
      },
      "execution_count": null,
      "outputs": []
    },
    {
      "cell_type": "code",
      "source": [
        "persona=hibrido(\"Gohan\",185) \n",
        "persona.cambio_color()\n",
        "class Perros():\n",
        "  def ladrar(self):\n",
        "    print(\"GUAAU GUAAU\")\n",
        "  def gruñir(self):\n",
        "    print(\"GUAAU GUAAU\")\n",
        "class Caniches(Perros):\n",
        "  def ladrar(self):\n",
        "    print(\"guau guau guau guau\")\n",
        "  def gruñir(self):\n",
        "    print(\"gñiii gñiii gñiii\")\n",
        "class Pastor_Aleman(Perros):\n",
        "  def ladrar(self):\n",
        "    print(\"GuaaUUU GuaaUUU GuaaUUU\")\n",
        "  def gruñir(self):\n",
        "    print(\"Agrrgrrrff Agrrgrrrff\")\n",
        "class Shepadoodel(Caniches,Pastor_Aleman): \n",
        "  def xladrar(self,veces):\n",
        "    for cuantas in range(veces):\n",
        "      super(Shepadoodel,self).ladrar()\n",
        "Tommy=Pastor_Aleman()\n",
        "lulu=Caniches()\n",
        "milu=Shepadoodel() \n",
        "milu.xladrar(2)\n",
        "guau guau guau guau\n",
        "guau guau guau guau\n",
        "class Asignar(list):\n",
        "  pass\n",
        "a=Asignar()\n",
        "a.append(2)\n",
        "class Padre():\n",
        "  def __init__(self,ojos,cejas):\n",
        "    self.ojos=ojos\n",
        "    self.cejas=cejas\n",
        "\n",
        "class Hijo(Padre):\n",
        "  def __init__(self,ojos,cejas,cara):\n",
        "    self.ojos=ojos\n",
        "    self.cejas=cejas\n",
        "    self.cara=cara\n",
        "Manuel=Padre(\"Marrón\",\"miel\")\n",
        "Tomas=Hijo(\"Rubio\",\"verdes\",\"larga\")\n",
        "print(Tomas.ojos,Tomas.cejas,Tomas.cara)\n",
        "Rubio verdes larga\n",
        "class Abuelo(): \n",
        "  def __init__(self,ojos,cejas):\n",
        "    self.ojos=ojos\n",
        "    self.cejas=cejas\n",
        "\n",
        "class Hijo2(Abuelo):\n",
        "  def __init__(self,ojos,cejas,cara):\n",
        "    super().__init__(ojos,cejas)\n",
        "    self.cara=cara\n",
        "Abuelo=Abuelo(\"Negro\",\"Marron\")\n",
        "Mateo=Hijo2(\"Marron\",\"Verdes\",\"Gordita\")"
      ],
      "metadata": {
        "id": "YLgm4nNKyfxE"
      },
      "execution_count": null,
      "outputs": []
    }
  ]
}