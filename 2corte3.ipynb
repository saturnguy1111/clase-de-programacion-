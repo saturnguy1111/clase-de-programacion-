{
  "nbformat": 4,
  "nbformat_minor": 0,
  "metadata": {
    "colab": {
      "provenance": []
    },
    "kernelspec": {
      "name": "python3",
      "display_name": "Python 3"
    },
    "language_info": {
      "name": "python"
    }
  },
  "cells": [
    {
      "cell_type": "code",
      "execution_count": null,
      "metadata": {
        "id": "v0L5dXpju9Wu"
      },
      "outputs": [],
      "source": [
        "EJERCICOS POR LISTAS\n",
        "La lista por comprensión es una construcción disponible en python con la que se puede crear lista a parit de otros elementos iterables. Siendo una de las contracciones mas elegantes del lengueje. A continuación, se mostraá la sitaxis básica para trabajar con las listas por comprensión."
      ]
    },
    {
      "cell_type": "markdown",
      "source": [
        "numbers=[1,2,3,4]\n",
        "results = []\n",
        "for n in numbers:\n",
        "  results.append(n+1)\n",
        "results"
      ],
      "metadata": {
        "id": "mrwqR-Iuu_0v"
      }
    },
    {
      "cell_type": "code",
      "source": [
        "CONDICIONES EN LAS LISTAS POR COMPRENSIÓN"
      ],
      "metadata": {
        "id": "rmIP6fRpvCjW"
      },
      "execution_count": null,
      "outputs": []
    },
    {
      "cell_type": "markdown",
      "source": [
        "\n",
        "numbers = [1, 2, 3, 4]\n",
        "results = [n + 1 for n in numbers if n < 5 ]\n",
        "results\n"
      ],
      "metadata": {
        "id": "YTk1k4z9vEXO"
      }
    },
    {
      "cell_type": "code",
      "source": [
        "results2=lambda numbers:results\n",
        "print(results2(numbers))"
      ],
      "metadata": {
        "id": "kL_aHGYmvI5e"
      },
      "execution_count": null,
      "outputs": []
    },
    {
      "cell_type": "code",
      "source": [
        "nom1 = ['Samuelle' ,'Angie' ,'Valentina', 'Alejandro', 'Jonsito']\n",
        "nom2 = ['Samuelle' ,'Andrea' ,'Samdra', 'Anderson', 'Jonsito']"
      ],
      "metadata": {
        "id": "co2sIBjavLLE"
      },
      "execution_count": null,
      "outputs": []
    },
    {
      "cell_type": "code",
      "source": [
        "#POR COMPRENSÓN\n",
        "common={a for a in nom1 for b in nom2 if a == b}\n",
        "common"
      ],
      "metadata": {
        "id": "tSLL_OUxvMvM"
      },
      "execution_count": null,
      "outputs": []
    },
    {
      "cell_type": "code",
      "source": [
        "#por LAMBDA\n",
        "common1=lambda nom1,nom2:common\n",
        "print(common1(nom1,nom2))"
      ],
      "metadata": {
        "id": "WXhGJb4OvOO8"
      },
      "execution_count": null,
      "outputs": []
    },
    {
      "cell_type": "code",
      "source": [
        "#por DEF  \n",
        "def common(nom1,nom2):\n",
        "  return nom1,nom2"
      ],
      "metadata": {
        "id": "d97EO-zWvQLE"
      },
      "execution_count": null,
      "outputs": []
    },
    {
      "cell_type": "code",
      "source": [
        "#número perfecto \n",
        "\n",
        "def perfecto(número):\n",
        "  perf=0\n",
        "  for i in range(1,número):\n",
        "    if número%i==0:\n",
        "      perf+=i\n",
        "    if perf==número:\n",
        "      print(\"es número perfecto\")\n",
        "      return True \n",
        "    else:\n",
        "      print(\"no es número perfecto\")\n",
        "  número=6\n",
        "perfecto(número)"
      ],
      "metadata": {
        "id": "Ue3ezbhLvR1E"
      },
      "execution_count": null,
      "outputs": []
    },
    {
      "cell_type": "code",
      "source": [
        "def números():\n",
        "  a=int(input(\"ingresa un número\"))\n",
        "  b=int(input(\"ingresa un número\"))\n",
        "  c=int(input(\"ingresa un número\")) \n",
        "  d=int(input(\"ingresa un número\"))\n",
        "  perfect4=[a,b,c,d]\n",
        "\n",
        "  perfect1=[elemento for elemento in perfect if perfecto(elemento)==True ] \n",
        "números()\n"
      ],
      "metadata": {
        "id": "IFZGI3k8vUC0"
      },
      "execution_count": null,
      "outputs": []
    },
    {
      "cell_type": "code",
      "source": [
        "lista=[2,3,6,4]\n",
        "#lambda y map\n",
        "perfec2=list(map(lambda elemento:perfecto(elemento)==True,lista))\n",
        "perfec2"
      ],
      "metadata": {
        "id": "ZFKLFaFUvVuk"
      },
      "execution_count": null,
      "outputs": []
    },
    {
      "cell_type": "code",
      "source": [
        "##metodo clasico de juandivox\n",
        "import random\n",
        "num1= [random.randint(0,2000)for x in range(100)]\n",
        "num2= [random.randint(0,2000)for x in range(100)]\n",
        "comun=[]\n",
        "for a in num1:\n",
        "  for b in num2:\n",
        "    if a==b:\n",
        "      comun.append(a)\n",
        "print(comun)"
      ],
      "metadata": {
        "id": "EJmRIHPwvXQ8"
      },
      "execution_count": null,
      "outputs": []
    },
    {
      "cell_type": "code",
      "source": [
        "##lamdba y filter \n",
        "import random\n",
        "num1= [random.randint(0,2000)for x in range(100)]\n",
        "num2= [random.randint(0,2000)for x in range(100)]\n",
        "comun=[]\n",
        "comun=list(filter(lambda num:num in num1,num2))\n",
        "print(comun)"
      ],
      "metadata": {
        "id": "5ub_dg6LvZLM"
      },
      "execution_count": null,
      "outputs": []
    },
    {
      "cell_type": "code",
      "source": [
        "##metodo comprension\n",
        "import random\n",
        "num1= [random.randint(0,2000)for x in range(100)]\n",
        "num2= [random.randint(0,2000)for x in range(100)]\n",
        "comun=[x for x in num1 for y in num2 if x==y]\n",
        "print(comun)"
      ],
      "metadata": {
        "id": "-LKhi8_ivae7"
      },
      "execution_count": null,
      "outputs": []
    },
    {
      "cell_type": "code",
      "source": [
        "#Alejandro \n",
        "lambda_func= lambda x: x**2 #función que recoge un número entero y devuleve su duadrado\n",
        "lambda_func(3) #retorna 9"
      ],
      "metadata": {
        "id": "hfb45XYNvcEL"
      },
      "execution_count": null,
      "outputs": []
    },
    {
      "cell_type": "code",
      "source": [
        "#tradicional \n",
        "def square1(num):\n",
        "  return num**2\n",
        "print(square1(5))"
      ],
      "metadata": {
        "id": "8zsg-ANKvdjr"
      },
      "execution_count": null,
      "outputs": []
    },
    {
      "cell_type": "code",
      "source": [
        "#comprensión\n",
        "L=[1,2,3,4]\n",
        "L2=[n**2 for n in L]\n",
        "print(L2)"
      ],
      "metadata": {
        "id": "eIQbzNpdve5T"
      },
      "execution_count": null,
      "outputs": []
    },
    {
      "cell_type": "code",
      "source": [
        "##valentina  \n",
        "\n",
        "#Tradicional\n",
        "def listaIMC(usuarios):\n",
        "  sis = []\n",
        "  imc=[]\n",
        "  b=0\n",
        "  a2=0\n",
        "  for n in range (usuarios):\n",
        "    w=input(\"¿Cuál es tu nombre?  \") \n",
        "    sis.append((w,b/a2**2))\n",
        "    imc.append(b/a2**2)\n",
        "  return sis,imc\n",
        "\n",
        "\n",
        "user=int(input(\"¿Cuántos usuarios hay? \"))\n",
        "\n",
        "sis,imc=listaIMC(user)"
      ],
      "metadata": {
        "id": "7hlIHqmivgtL"
      },
      "execution_count": null,
      "outputs": []
    },
    {
      "cell_type": "code",
      "source": [
        "#Comprensión\n",
        "sis2\n",
        "=listaIMC(user)\n",
        "sis2=[n for n in imc if n>= 18.5]\n",
        "print(sis2)"
      ],
      "metadata": {
        "id": "nEv2Ox9NvjOb"
      },
      "execution_count": null,
      "outputs": []
    },
    {
      "cell_type": "code",
      "source": [
        "#Lambda\n",
        "#IMC2=[28,30,40,35,100]\n",
        "#sis=listaIMC(user)\n",
        "sis3=list(map(lambda x: \"peso insuficiente\" if x<18.5 else \"peso normal\" if (x>=18.5 and x<24.9) else \"sobrepeso\" if (x>=24.9 and x<30) else \"obesidad\",imc))\n",
        "sis3vvv"
      ],
      "metadata": {
        "id": "TU0weqHCvjy0"
      },
      "execution_count": null,
      "outputs": []
    },
    {
      "cell_type": "code",
      "source": [
        "## Luis Miguel \n",
        "#Tradicional\n",
        "print(\"ingrese su código \")\n",
        "caracter=input()\n",
        "if len(caracter) ==8:\n",
        "  if caracter[0]== \"u\":\n",
        "    print(\"Eres estudiante Unab\")\n",
        "  elif(caracter.startswhith(\"a000\")):\n",
        "    print(\"Eres estudiante de los andes\")\n",
        "  else:\n",
        "    if(int(caracter)>=1950):\n",
        "      print(\"Eres estudiante UIS\")\n",
        "else:\n",
        "  print(\"No corresponde a ninguna universidad, revisa tu código\")"
      ],
      "metadata": {
        "id": "38vdLiOnvomp"
      },
      "execution_count": null,
      "outputs": []
    },
    {
      "cell_type": "code",
      "source": [
        "#Comprensión\n",
        "universidades=[\"unab\",\"uis\",\"andes\"]\n",
        "codigo=[\"U0123456\",\"198562\",\"a0005645\"]\n",
        "\n",
        "u=[cod for cod in codigo if cod[0]==\"u\" and len(cod)==8]\n",
        "print(u)"
      ],
      "metadata": {
        "id": "jEiFbmegvqLC"
      },
      "execution_count": null,
      "outputs": []
    },
    {
      "cell_type": "code",
      "source": [
        "#Lambda\n",
        "y=list(map(lambda x:\"unab\" if (x[0]==\"U\")))"
      ],
      "metadata": {
        "id": "XyRAqDMEvrd6"
      },
      "execution_count": null,
      "outputs": []
    },
    {
      "cell_type": "code",
      "source": [
        "#normla\n",
        "print(\"ingrese su codigo\")\n",
        "caracter=input()\n",
        "if len(caracter)==8:\n",
        "  if caracter[0]==\"u\":\n",
        "    print(\"eres estudiantee unab\")\n",
        "  elif(caracter,startswith(\"6000\")):\n",
        "    print(\"eres estudiante de los andes\")\n",
        "  else:\n",
        "    if(int(caracter)>=1950):\n",
        "      print(\"esres estudiante de la uis\") \n",
        "else:\n",
        "    print(\"no coresponde a nunguna universidad, revisaa tu codigo\")"
      ],
      "metadata": {
        "id": "6octtE93vs9z"
      },
      "execution_count": null,
      "outputs": []
    },
    {
      "cell_type": "code",
      "source": [
        "#por comprensión \n",
        "universidades=[\"unab\",\"uis\",\"andes\"]\n",
        "codigo=[\"U0123456\",\"198562\",\"a0005645\"] \n",
        "\n",
        "u=[cod for cod in codigo if (cod[0]==\"u\" and len(cod)==8)] \n",
        "print(u)\n"
      ],
      "metadata": {
        "id": "BxBgtIlQvu5a"
      },
      "execution_count": null,
      "outputs": []
    },
    {
      "cell_type": "code",
      "source": [
        "y=list(map(lambda x:\"unab\" if (x[0]==\"u\" or x[0]==\"u\") else None, codigo)) \n",
        "print(y)"
      ],
      "metadata": {
        "id": "Rs7rrZkDvwPS"
      },
      "execution_count": null,
      "outputs": []
    },
    {
      "cell_type": "code",
      "source": [
        "lista=[]\n",
        "x = 0\n",
        "while x==0:\n",
        "  entrada=input(\"ingresa un codigo\")\n",
        "  lista.append(entrada)\n",
        "  a=int(input(\"deseas ingresar otro?, ingresa 0 si lo deseas, si no ingrasa 1\"))\n",
        "  if (a==1):\n",
        "    x=x+1 \n",
        "listas=[\"u00123456\",\"a00987654\",\"U00234897\"]\n",
        "clasificación=list(map(lambda a: \"unab\" if a.startswith(\"U00\") or a.startwith(\"u00\") else \"los andes\" if a.sstartswith(\"A000\") or a.startwith(\"a000\") else None, lista))\n",
        "clasificación\n"
      ],
      "metadata": {
        "id": "bn87Sg2Cvyc6"
      },
      "execution_count": null,
      "outputs": []
    },
    {
      "cell_type": "code",
      "source": [
        "lista=[]\n",
        "x = 0\n",
        "while x==0:\n",
        "  entrada=input(\"ingresa un codigo\")\n",
        "  lista.append(entrada)\n",
        "  a=int(input(\"deseas ingresar otro?, ingresa 0 si lo deseas, si no ingrasa 1\"))\n",
        "  if (a==1):\n",
        "    x=x+1\n",
        "\n",
        "clasificación = [a for a in lista if a.startswhith(\"U00\") and len(a)==9]\n",
        "print(f'hay {len(clasificación)} estuduante(s) de la unab y sus codigo(s)son {clasificación}')\n",
        "\n",
        "clasificación=[a for a in lista if a.startswhith(\"A00\") d len(a)==9]\n",
        "print(f'hay {len(clasificación)} estuduante(s) de los andes y sus codigo(s)son {clasificación}')"
      ],
      "metadata": {
        "id": "wsk3Gggjv0Rq"
      },
      "execution_count": null,
      "outputs": []
    },
    {
      "cell_type": "code",
      "source": [
        "def funcion(lista, numDigitos, universidad, clascodigo):\n",
        "  clasificaación=[a for a in lista if a.startswith(clascodigo) and len(a)==numDigitos] \n",
        "  print(f'hay {len(clasificación)} estuadinte(s) de {universidad} y sus codigo(s) son {clasificación}')\n",
        "\n",
        "  lista=[]\n",
        "  x=0\n",
        "  while x==0:\n",
        "    entrada=input(\"ingrese un codigo\")\n",
        "    lista.append(entrada)\n",
        "    a=int(input(\"¿deseas infgresar otro?, ingresa 0 si lo deseas, sino ingresaa 1\"))\n",
        "    if (a==1):\n",
        "      x=x+1  \n",
        "\n",
        "función=(lista,9,'la unab','U00') \n",
        "función=(lista,9,'los andes','A00')"
      ],
      "metadata": {
        "id": "iVkyL00Gv2jS"
      },
      "execution_count": null,
      "outputs": []
    },
    {
      "cell_type": "code",
      "source": [
        "#Armith\n",
        "#tradicional\n",
        "num=[1,2,3,4,5,6,7,8,9,10] \n",
        "exp=int(input(\"escriba su exponente: \"))\n",
        "x=len(num)\n",
        "for n in range(1,(x)):\n",
        "  num[n]=num[n]**exp\n",
        "print(num)\n",
        "def imprimir(num):\n",
        "  s=1\n",
        "  for i in num:\n",
        "    print(f\"/nel resultado del elemento {s} de la lista es {i}\")\n",
        "    s+=1\n",
        "\n",
        "imprimir(num)"
      ],
      "metadata": {
        "id": "2w0S6ULLv4YI"
      },
      "execution_count": null,
      "outputs": []
    },
    {
      "cell_type": "code",
      "source": [
        "#por comprension \n",
        "num=[1,2,3,4,5,6,7,8,9,10] \n",
        "exp=int(input(\"escriba su exponente: \"))\n",
        "números=[n**exp for n in num] \n",
        "números \n",
        "imprimir(números)"
      ],
      "metadata": {
        "id": "7bLjq-HEv4cQ"
      },
      "execution_count": null,
      "outputs": []
    },
    {
      "cell_type": "code",
      "source": [
        "#lambda\n",
        "num=list(range(1,11))\n",
        "exp=int(input(\"escriba su exponente: \"))\n",
        "números=lambda num, exp:(n**exp for n in num)\n",
        "números=números(num,exp)\n",
        "imprimir=(list(números))"
      ],
      "metadata": {
        "id": "XPqlc7J_v8Ao"
      },
      "execution_count": null,
      "outputs": []
    },
    {
      "cell_type": "markdown",
      "source": [
        "Como usar la compresión de diccionario para crear un diccionario de Python a partir de una iteración. Podemos crear un nuevo diccionario en Python usando solamente un iterable si elegimos generar ya sea las claves o los valores en marcha.\n",
        "\n",
        "Cuando elegimos generar los valores en cuestión, podemos usar los items en el iterable cómo claves, y viceversa. La sintaxis general es mostrada bajo. Por favor, observa que los nombres entre <> son marcadores de posición para los nombres actuales de las variables.\n",
        "\n",
        "Ejemplo 1 Supongamos que tenemos una lista de clientes que visitan nuestra tienda, y nos gustaría ofrecer un descuento aleatorio a cada cliente. Nos gustaría además, que el valor de descuento se encuentre entre 1y100.\n",
        "\n",
        "En Python, random.randint(i,j) retorna un valor entre i y j incluyendo ambos extremos. Por tanto, podemos utilizar la función randint() para generar un descuento entre 1y100 para cada cliente en la lista.\n",
        "\n",
        "El siguiente código nos mostrará cómo podemos crear un diccionario de descuentos a partir de la lista de clientes."
      ],
      "metadata": {
        "id": "oH8niytHv9wI"
      }
    },
    {
      "cell_type": "code",
      "source": [
        "import random\n",
        "clientes=[\"Alex\",\"Bob\",\"Carol\",\"Dave\",\"Flow\",\"Katie\",\"Nate\"]\n",
        "diccionario_descuentos={cliente:random.randint(1,100) for cliente in clientes}\n",
        "print(diccionario_descuentos)"
      ],
      "metadata": {
        "id": "DFx4IZAwv-TA"
      },
      "execution_count": null,
      "outputs": []
    },
    {
      "cell_type": "code",
      "source": [
        "#Santiago Carvajal\n",
        "import random\n",
        "clientes=[\"Alex\",\"Bob\",\"Carol\",\"Dave\",\"Flow\",\"Katie\",\"Nate\"]\n",
        "diccionario_descuentos=(dict(map(lambda diccionario_descuentos:(diccionario_descuentos,random.randint(1,100)),diccionario_descuentos)))\n",
        "print(diccionario_descuentos)"
      ],
      "metadata": {
        "id": "5cvdH_ZHwA-C"
      },
      "execution_count": null,
      "outputs": []
    },
    {
      "cell_type": "code",
      "source": [
        "#JAIME\n",
        "\n",
        "productos={\"papas\":1300, \"jugos\":1800, \"helados\":2300, \"dulces\":800, \"leche\":4200}\n",
        "operación={x:y*1.19 for (x,y) in productos.items()}\n",
        "print(f\"el precio son IVA de los productos es:{productos}\")\n",
        "print(\"°°\"*60)\n",
        "print(f\"el precio con IVA de los productos es:{operación}\")"
      ],
      "metadata": {
        "id": "DK8N66BOwCao"
      },
      "execution_count": null,
      "outputs": []
    },
    {
      "cell_type": "code",
      "source": [
        "#JAIME \n",
        "\n",
        "#lambda\n",
        "tienda = {\"papas\":1300,\"jugos\":1800,\"helados\":2300,\"dulces\":800,\"leche\":4200}\n",
        "compra = [\"papas\", \"jugos\", \"helados\", \"dulces\", \"leche\"] \n",
        "\n",
        "IVA =dict(map(lambda producto:(producto, tienda[producto]) if producto in tienda else (producto, None), compra)\n",
        "IVA"
      ],
      "metadata": {
        "id": "OY84fQXAwEfI"
      },
      "execution_count": null,
      "outputs": []
    },
    {
      "cell_type": "code",
      "source": [
        "#JUAN DAVID VARGAS\n",
        "\n",
        "productos=[\"milk\",\"bread\",\"butter\",\"apple\",\"watermelon\",\"banana\",\"candy\",\"water\",\"ice\"]\n",
        "precio=[3,4,10,2,5,4,5,3,2,9,5,6,5] \n",
        "#la función zip comprime las 2 listas, convirtiendolas en pares key-value\n",
        "precio_productos = {productos:precio for (productos, precio)in zip(productos,precio) }\n",
        "print(precio_productos) \n",
        "##quiero hacerles un descuento a los productos que valen menos de 5 y ubicarlos dentro de otros diccionarios.\n",
        "###hizo un diccionario a partir de otros diccionarios \n",
        "descuentos = {productos:precio for (productos, precio) in precio_productos.items() if precio<5}\n",
        "print(descuentos)"
      ],
      "metadata": {
        "id": "1kbC7lvuwEjg"
      },
      "execution_count": null,
      "outputs": []
    },
    {
      "cell_type": "code",
      "source": [
        "##LEANDRO \n",
        "\n",
        "\n",
        "#DICTIONARIEN USIG AN EXPRESSIO, WEATHER CITIES EN F° ANF C°\n",
        "\n",
        "def check_temp(value):\n",
        "  if value >=70:\n",
        "    return \"hot\"\n",
        "  elif 69 >= value >= 40:\n",
        "    return \"warn\"\n",
        "  else:\n",
        "    return \"cord\"\n",
        "  \n",
        "cities={\"New York\": 32, \"Boston\": 75, \"los Angele\": 100, \"Chincago\": 50}\n",
        "des_cities ={key: check_temp(value) for (key, value) in cities.items()}\n",
        "print(des_cities)"
      ],
      "metadata": {
        "id": "zFePyR5iwEpg"
      },
      "execution_count": null,
      "outputs": []
    },
    {
      "cell_type": "code",
      "source": [
        "#dictionaries using a expression, weather cities en F° anf C°\n",
        "def check_temp(value):\n",
        "  if value >=70:\n",
        "    return \"hot\"\n",
        "  elif 69 >= value >= 40:\n",
        "    return \"warn\"\n",
        "  else:\n",
        "    return \"cord\" \n",
        "\n",
        "cities={\"New York\": 32, \"Boston\": 75, \"los Angele\": 100, \"Chincago\": 50} \n",
        "des_cities=dict(map(lambda cit: check_temp(cities.values(cit), cities.items())))\n",
        "#another form \n",
        "de_cities={key: check_temp(value) for (key, value) in cities.items()}\n",
        "print(des_cities)"
      ],
      "metadata": {
        "id": "0wpbuYFnwK1H"
      },
      "execution_count": null,
      "outputs": []
    },
    {
      "cell_type": "code",
      "source": [
        "#Sebastian Zambrano\n",
        "import random\n",
        "compañeros=[]\n",
        "def aleatorio(opciones):\n",
        "  opciones=list(opciones)\n",
        "  while True:\n",
        "    x=random.choice(opciones)\n",
        "    opciones.remove(x)\n",
        "    yield x\n",
        "print(\"Para no agregar más nombres escribe '0'\")\n",
        "a=\"t\"\n",
        "while a!='0':\n",
        "  a=(input(\"Ingresa el nombre de tu compañero: \"))\n",
        "  if a!=\"0\":\n",
        "    compañeros.append(a)\n",
        "cantidad=len(compañeros)\n",
        "contador=0\n",
        "números=[]\n",
        "while contador!=(cantidad+1):\n",
        "  contador+=1\n",
        "  números.append(contador)\n",
        "alt=aleatorio(números)\n",
        "num_alt={}\n",
        "for s in range(cantidad):\n",
        "  num_alt[compañeros[s]]=next(alt)\n",
        "print(num_alt)"
      ],
      "metadata": {
        "id": "iYgOpVpvwMtP"
      },
      "execution_count": null,
      "outputs": []
    },
    {
      "cell_type": "code",
      "source": [
        "#Sebastian Zambrano\n",
        "import random\n",
        "compañeros=[]\n",
        "def aleatorio(opciones):\n",
        "  opciones=list(opciones)\n",
        "  while True:\n",
        "    x=random.choice(opciones)\n",
        "    opciones.remove(x)\n",
        "    yield x\n",
        "print(\"Para no agregar más nombres escribe '0'\")\n",
        "a=\"t\"\n",
        "while a!='0':\n",
        "  a=(input(\"Ingresa el nombre de tu compañero: \"))\n",
        "  if a!=\"0\":\n",
        "    compañeros.append(a)\n",
        "cantidad=len(compañeros)\n",
        "números=[num for num in range(1,(cantidad+1))]\n",
        "alt=aleatorio(números)\n",
        "num_alt={orden:next(alt) for orden in compañeros}\n",
        "print(num_alt)"
      ],
      "metadata": {
        "id": "Mq3VD0pywOdn"
      },
      "execution_count": null,
      "outputs": []
    },
    {
      "cell_type": "code",
      "source": [
        "#Daniel Rodriguez\n",
        "import random\n",
        "diccionario=[\"cliente 1\",\"cliente 2\",\"cliente 3\",\"cliente 4\",\"cliente 5\"]\n",
        "tienda={diccionario: random.randint(1000,100000) for diccionario in diccionario}\n",
        "tienda_sort=sorted(tienda.values())\n",
        "mayor=tienda_sort[-1]\n",
        "mayor1=tienda_sort[4::]\n",
        "cliente=list(tienda.values()).index(mayor)\n",
        "if cliente==0:\n",
        "  a=\"cliente 1\"\n",
        "if cliente==1:\n",
        "  a=\"cliente 2\"\n",
        "if cliente==2:\n",
        "  a=\"cliente 3\"\n",
        "if cliente==3:\n",
        "  a=\"cliente 4\"\n",
        "if cliente==4:\n",
        "  a=\"cliente 5\"\n",
        "oferta={producto*0.8 for producto in mayor1}\n",
        "print(f\"El {a} tuvo la mayor compra con un valor de: {mayor}, por lo tanto obtuvo un descuento del 20%, su total fue: {oferta}\")"
      ],
      "metadata": {
        "id": "pfx6lNfpwQjn"
      },
      "execution_count": null,
      "outputs": []
    },
    {
      "cell_type": "code",
      "source": [
        "#Daniel Rodriguez\n",
        "import random\n",
        "diccionario=[\"cliente 1\",\"cliente 2\",\"cliente 3\",\"cliente 4\",\"cliente 5\"]\n",
        "def cositas (a):\n",
        " tienda={diccionario: random.randint(1000,100000) for diccionario in diccionario}\n",
        " tienda_sort=sorted(tienda.values())\n",
        " mayor=tienda_sort[-1]\n",
        " mayor1=tienda_sort[4::]\n",
        " cliente=list(tienda.values()).index(mayor)\n",
        " if cliente==0:\n",
        "   a=\"cliente 1\"\n",
        " if cliente==1:\n",
        "   a=\"cliente 2\"\n",
        " if cliente==2:\n",
        "   a=\"cliente 3\"\n",
        " if cliente==3:\n",
        "   a=\"cliente 4\"\n",
        " if cliente==4:\n",
        "   a=\"cliente 5\"\n",
        " oferta={producto*0.8 for producto in mayor1}\n",
        " print(f\"El {a} tuvo la mayor compra con un valor de: {mayor}, por lo tanto obtuvo un descuento del 20%, su total fue: {oferta}\")\n",
        "cositas(diccionario)"
      ],
      "metadata": {
        "id": "64qegNV4wSUf"
      },
      "execution_count": null,
      "outputs": []
    },
    {
      "cell_type": "code",
      "source": [
        "#Daniel Rodriguez\n",
        "import random\n",
        "diccionario=[\"cliente 1\",\"cliente 2\",\"cliente 3\",\"cliente 4\",\"cliente 5\"]\n",
        "tienda=(dict(map(lambda tienda:(tienda,random.randint(1000,100000)),diccionario)))\n",
        "tienda_sort=sorted(tienda.values())\n",
        "mayor=tienda_sort[-1]\n",
        "mayor1=tienda_sort[4::]\n",
        "cliente=list(tienda.values()).index(mayor)\n",
        "oferta={producto*0.8 for producto in mayor1}\n",
        "def get_key (val):\n",
        "  for key,value in tienda.items():\n",
        "    if val==value:\n",
        "     return key\n",
        "print(f\"El {get_key(mayor)} tuvo la mayor compra con un valor de: {mayor}, por lo tanto obtuvo un descuento del 20%, su total fue: {oferta}\")"
      ],
      "metadata": {
        "id": "E0TQd_MKwVmX"
      },
      "execution_count": null,
      "outputs": []
    },
    {
      "cell_type": "code",
      "source": [
        "##ADRIAN PARRA \n",
        "\n",
        "#COMPRENSIÓN \n",
        "nomre=str(input(\"ingrese el nombre del atleta: \"))\n",
        "N=int(input(\"ingrese el número de saltos: \"))\n",
        "\n",
        "def fun(nombre, a):\n",
        "  lista=[]\n",
        "  for i in range(0,a):\n",
        "    name=str(f\"salto {i+1}\")\n",
        "    lista. append(name) \n",
        "\n",
        "print(\"--------------------\")\n",
        "print(\"la altura de los saltos se mide en metros\")\n",
        "dic_lista={lista:float(input(f\"ingrese la altura del salto: \")) for lista in lista}\n",
        "distancia=sorted(dic_lista.values())\n",
        "mayor=distancis[-1]\n",
        "print(\"-------------------\")\n",
        "print(f\"atleta {nombre}:\")\n",
        "print(dic_lista)\n",
        "sum=0\n",
        "for i in dic_lista.values():\n",
        "  sum+=1\n",
        "prom=sum/a\n",
        "redprom0round(prom, 2)\n",
        "print(f\"el promedio de los {a} saltos es de {redprom} metros, teniendo que el mayor fue aquel con {mayor} metros de altura\")\n",
        "\n",
        "fun(nombre, N)"
      ],
      "metadata": {
        "id": "qvAOYrcqwXM-"
      },
      "execution_count": null,
      "outputs": []
    },
    {
      "cell_type": "code",
      "source": [
        "##ADRIAN PARRA \n",
        "#lambda\n",
        "from functools import reduce\n",
        "\n",
        "nombre=str(input(\"ingres el nombre del atleta: \"))\n",
        "a=int(input(\"ingrese el número de saltos: \")) \n",
        "\n",
        "lista=[]\n",
        "for i in range(0,a):\n",
        "  name=str(f\"salto {i+1}\")\n",
        "  lista.append(name) \n",
        "\n",
        "print(\"-----------------\")\n",
        "print(\"la altura de los saltos se mide en metros\") \n",
        "dic_lista=(dict(map(lambda x:(x, float(input(f\"ingrese la altura del salto:\"))), lista)))\n",
        "distancia=sorted(dic_listas.values())\n",
        "mayor=distancia[-1]\n",
        "print(\"------------------\")\n",
        "print(f\"atleta{nombre}:\")\n",
        "print(dic_lista)\n",
        "\n",
        "sum=reduce(lambda distancia,distancia1:distancia+distancia1, distancia)\n",
        "\n",
        "prom=float(sum)/a\n",
        "redprom=round(prom, 2)\n",
        "print(f\"el promedio de los dos {a} saltos es de {redprom} metros, teniendo que el mayor fue aquel con {mayor} metros que altura\")"
      ],
      "metadata": {
        "id": "nh6hMCoOwZO2"
      },
      "execution_count": null,
      "outputs": []
    },
    {
      "cell_type": "code",
      "source": [
        "#SANTIAGO GALINDO\n",
        "\n",
        "#normal\n",
        "from typing_extensions import DefaultDict\n",
        "import random\n",
        "cs=[\"Andru\", \"David\", \"Sebas\"]\n",
        "CS=[\"Andres\", \"Flowey\", \"cata\", \"Karen\"]\n",
        "dd={cs:random.randint(1,50) for cs in cs}\n",
        "dd1={CS:random.randint(1,50) for CS in CS} \n",
        "print(dd,dd1)"
      ],
      "metadata": {
        "id": "5_Sl9pGxwZTe"
      },
      "execution_count": null,
      "outputs": []
    },
    {
      "cell_type": "code",
      "source": [
        "#SANTIAGO GALINDO\n",
        "#def\n",
        "from typing_extensions import DefaultDict\n",
        "\n",
        "import random\n",
        "def A ():\n",
        "  CS=[\"Andru\", \"David\", \"Sebas\"]\n",
        "  CS=[\"Andres\", \"Flowey\", \"Cata\", \"Karen\"]\n",
        "  DD={CS: random.randint(1,50) for CS in CS}\n",
        "  DD1= {CS: random.randint(1,50) for CS in CS}\n",
        "  return(DD, DD1)\n",
        "A()"
      ],
      "metadata": {
        "id": "XOOU0efLwZV9"
      },
      "execution_count": null,
      "outputs": []
    },
    {
      "cell_type": "code",
      "source": [
        "#SANTIAGO GALINDO\n",
        "#lambda \n",
        "\n",
        "from typing_extensions import DefaultDict\n",
        "import random\n",
        "cs =[\"Andru\", \"David\", \"Sebas\"]\n",
        "CS =[\"Andres\", \"Flowey\", \"Cata\", \"Karen\"]\n",
        "DD = (dict(map(lambda DD: (DD, random.randint(1,50)), cs)))\n",
        "DD1 = (dict(map(lambda DD1: (DD1, random.randint(1,50)), CS)))\n",
        "print (DD, DD1)"
      ],
      "metadata": {
        "id": "OqMQMY3lwZYG"
      },
      "execution_count": null,
      "outputs": []
    },
    {
      "cell_type": "code",
      "source": [
        "#Juan Nicolas Zuluaga\n",
        "import random\n",
        "listado_numerico=[]\n",
        "while True:\n",
        "   nombres=str(input(\"¿Ingrese el nombre del cliente?: \"))\n",
        "   listado_numerico.append(nombres) \n",
        "   confirmador=str(input(\"¿Hubo mas clientes el día de hoy?: \"))\n",
        "   confirmador.lower()\n",
        "   if confirmador == \"no\":\n",
        "     break\n",
        "print(listado_numerico)\n",
        "catalogocomp={listado_numerico: random.randint(100,5000) for listado_numerico in listado_numerico}\n",
        "\n",
        "costes=sorted(catalogocomp)\n",
        "\n",
        "mayor=max(catalogocomp,key=catalogocomp.get)\n",
        "\n",
        "gastos= sum(catalogocomp.values())*0.8 if sum(catalogocomp.values())>10000 else sum(catalogocomp.values())\n",
        "print(mayor)\n",
        "\n",
        "descuentos_prod=[0.6,0,8,0.5]\n",
        "catalogo_descuentos={listado_numerico:random.choice(descuentos_prod)*random.randint(100,5000) for listado_numerico in listado_numerico if random.randint(100,5000)>4000  }\n",
        "\n",
        "\n",
        "catalogo_descuentos"
      ],
      "metadata": {
        "id": "jNc3SWbqwZaa"
      },
      "execution_count": null,
      "outputs": []
    },
    {
      "cell_type": "code",
      "source": [
        "#Juan Arenales\n",
        "import pandas as pd\n",
        "import random\n",
        "def menu(C,E,N,n):\n",
        "  b=int(input(\"Menú:\\n1)Añadir contacto\\n2)Eliminar contacto\\n3)Lista de contacto\\n4)Darle emojis aleatorios\\n\"))\n",
        "  if b==1: #Añade contactos\n",
        "    d=input(\"Nombre: \") #Ingresa el nombre\n",
        "    f=d in N #Si el nombre ya esta en los contactos f es True, sino es false\n",
        "    while f==True:\n",
        "      d=input(\"Ya existe un contacto con ese nombre, escoja otro: \")\n",
        "      f=d in C[\"Nombre\"]\n",
        "    e=input(\"Número: \") #Ingresa el numero\n",
        "    N.append(d) #Añade el nombre a la lista N\n",
        "    n.append(e) #Añade el numero a la lista n\n",
        "  if b==2:# Elimina contactos\n",
        "    o=int(input(\"1)Eliminar por nombre\\n2)Eliminar por número\\n\")) #Da dos opciones para eliminar un contacto\n",
        "    if o==1: #Eliminar por nombre\n",
        "      d=input(\"Nombre: \") #Ingresa el nombre\n",
        "      f=d in N #Si el nombre ya esta en los contactos f es True, sino es false\n",
        "      if f==False:#Si ese contacto no existe en la lista\n",
        "        print(\"No existe un contacto con ese nombre\")\n",
        "      else:\n",
        "        i=N.index(d) #Busca la posición del Nombre\n",
        "        N.pop(i) #Elimina el nombre en esa posicion\n",
        "        n.pop(i) #Elimina el número en esa posicion\n",
        "    if o==2: #Eliminar por número\n",
        "      e=input(\"Número: \") #Ingresa el número\n",
        "      h= e in N #Si el numero ya esta en los contactos h es True, sino es false\n",
        "      if h==False: #Si ese contacto no existe en la lista\n",
        "        print(\"No existe un contacto con ese número\")\n",
        "      else:\n",
        "        i=n.index(e) #Busca la posición del Nombre\n",
        "        N.pop(i) #Elimina el nombre en esa posicion\n",
        "        n.pop(i) #Elimina el número en esa posicion\n",
        "  if b==3:#Imprime la lista de contactos\n",
        "    C={N[z]: n[z] for z in range(len(N)) }\n",
        "    print(C)\n",
        "  if b==4:#Le da emojis aleatorios a los contactos \n",
        "    C={N[z]: (n[z],E[random.randint(0,3)]) for z in range(len(N)) }\n",
        "    print(pd.DataFrame.from_dict(C)) #La imprime bonito con pandas\n",
        "\n",
        "  return C\n",
        "    \n",
        "C={}\n",
        "E=[\"B)\",\":)\",\"<3\",\">:v\"]#Emojis\n",
        "N=[\"juan\",\"Kyle\"]#Nombres default\n",
        "n=[\"453\",\"64782\"]#Números default\n",
        "\n",
        "a=True\n",
        "while a==True:\n",
        "  menu(C,E,N,n)"
      ],
      "metadata": {
        "id": "G0Gy2SGswZcn"
      },
      "execution_count": null,
      "outputs": []
    },
    {
      "cell_type": "code",
      "source": [
        "#JUAN ARENALES  \n",
        "import pandas as pd\n",
        "import random\n",
        "def menu(C,E,N,n):\n",
        "  b=int(input(\"Menú:\\n1)Añadir contacto\\n2)Eliminar contacto\\n3)Lista de contacto\\n4)Darle emojis aleatorios\\n\"))\n",
        "  if b==1:\n",
        "    d=input(\"Nombre: \")\n",
        "    f=d in N\n",
        "    while f==True:\n",
        "      d=input(\"Ya existe un contacto con ese nombre, escoja otro: \")\n",
        "      f=d in C[\"Nombre\"]\n",
        "    e=input(\"Número: \")\n",
        "    N.append(d)\n",
        "    n.append(e)\n",
        "  if b==2:\n",
        "    o=int(input(\"1)Eliminar por nombre\\n2)Eliminar por número\\n\"))\n",
        "    if o==1:\n",
        "      d=input(\"Nombre: \")\n",
        "      f=d in N\n",
        "      if f==False:\n",
        "        print(\"No existe un contacto con ese nombre\")\n",
        "      else:\n",
        "        i=N.index(d)\n",
        "        N.pop(i)\n",
        "        n.pop(i)\n",
        "    if o==2:\n",
        "      e=input(\"Número: \")\n",
        "      h= e in N\n",
        "      if h==False:\n",
        "        print(\"No existe un contacto con ese número\")\n",
        "      else:\n",
        "        i=n.index(e)\n",
        "        N.pop(i)\n",
        "        n.pop(i)\n",
        "  if b==3:\n",
        "    l=len(N)\n",
        "    for a in range(l): #Tradicional\n",
        "      C[N[a]]=n[a] \n",
        "    print(C)\n",
        "  if b==4:\n",
        "    l=len(N)\n",
        "    for a in range(l):#Tradicional\n",
        "      C[N[a]]=(n[a],E[random.randint(0,3)])\n",
        "    print(pd.DataFrame.from_dict(C))\n",
        "\n",
        "  return C\n",
        "C={}\n",
        "E=[\"B)\",\":)\",\"<3\",\">:v\"]\n",
        "N=[\"juan\",\"Kyle\"]\n",
        "n=[\"453\",\"64782\"]\n",
        "\n",
        "a=True\n",
        "while a==True:\n",
        "  menu(C,E,N,n)"
      ],
      "metadata": {
        "id": "BENngHwCwk7k"
      },
      "execution_count": null,
      "outputs": []
    },
    {
      "cell_type": "code",
      "source": [
        "#JUAN ARENALES\n",
        "import pandas as pd\n",
        "import random\n",
        "def menu(C,E,N,n):\n",
        "  b=int(input(\"Menú:\\n1)Añadir contacto\\n2)Eliminar contacto\\n3)Lista de contacto\\n4)Darle emojis aleatorios\\n\"))\n",
        "  if b==1:\n",
        "    d=input(\"Nombre: \")\n",
        "    f=d in N\n",
        "    while f==True:\n",
        "      d=input(\"Ya existe un contacto con ese nombre, escoja otro: \")\n",
        "      f=d in C[\"Nombre\"]\n",
        "    e=input(\"Número: \")\n",
        "    N.append(d)\n",
        "    n.append(e)\n",
        "  if b==2:\n",
        "    o=int(input(\"1)Eliminar por nombre\\n2)Eliminar por número\\n\"))\n",
        "    if o==1:\n",
        "      d=input(\"Nombre: \")\n",
        "      f=d in N\n",
        "      if f==False:\n",
        "        print(\"No existe un contacto con ese nombre\")\n",
        "      else:\n",
        "        i=N.index(d)\n",
        "        N.pop(i)\n",
        "        n.pop(i)\n",
        "    if o==2:\n",
        "      e=input(\"Número: \")\n",
        "      h= e in N\n",
        "      if h==False:\n",
        "        print(\"No existe un contacto con ese número\")\n",
        "      else:\n",
        "        i=n.index(e)\n",
        "        N.pop(i)\n",
        "        n.pop(i)\n",
        "  if b==3:\n",
        "    l=len(N)\n",
        "    for a in range(l): #Tradicional\n",
        "      C[N[a]]=n[a] \n",
        "    print(C)\n",
        "  if b==4:\n",
        "    l=len(N)\n",
        "    for a in range(l):#Tradicional\n",
        "      C[N[a]]=(n[a],E[random.randint(0,3)])\n",
        "    print(pd.DataFrame.from_dict(C))\n",
        "\n",
        "  return C\n",
        "C={}\n",
        "E=[\"B)\",\":)\",\"<3\",\">:v\"]\n",
        "N=[\"juan\",\"Kyle\"]\n",
        "n=[\"453\",\"64782\"]\n",
        "\n",
        "a=True\n",
        "while a==True:\n",
        "  menu(C,E,N,n)"
      ],
      "metadata": {
        "id": "Frsw2OXgwZe1"
      },
      "execution_count": null,
      "outputs": []
    }
  ]
}