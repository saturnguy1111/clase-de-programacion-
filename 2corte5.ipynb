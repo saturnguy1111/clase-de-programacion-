{
  "nbformat": 4,
  "nbformat_minor": 0,
  "metadata": {
    "colab": {
      "provenance": []
    },
    "kernelspec": {
      "name": "python3",
      "display_name": "Python 3"
    },
    "language_info": {
      "name": "python"
    }
  },
  "cells": [
    {
      "cell_type": "code",
      "execution_count": null,
      "metadata": {
        "id": "cRRKcJV0xdkq"
      },
      "outputs": [],
      "source": [
        "HERENCIAS"
      ]
    },
    {
      "cell_type": "markdown",
      "source": [
        "class Humanos:\n",
        "  def __init__(self,ojos,boca,pelo,estatura,raza,etnia,signo,nobinario,cantidadfurro,sexo,cuello,dientes,fisico,RH,nombre):\n",
        "    self.ojos=ojos\n",
        "    self.boca=boca\n",
        "    self.pelo=pelo\n",
        "    self.estatura=estatura\n",
        "    self.raza=raza\n",
        "    self.etnia=etnia\n",
        "    self.signo=signo\n",
        "    self.nobinario=nobinario\n",
        "    self.cantidadfurro=cantidadfurro\n",
        "    self.sexo=sexo\n",
        "    self.cuello=cuello\n",
        "    self.dientes=dientes\n",
        "    self.fisico=fisico\n",
        "    self.RH=RH\n",
        "    self.nombre=nombre\n",
        "class Sayayin:\n",
        "  def __init__(self,ojos,boca,pelo,estatura,raza,etnia,signo,nobinario,cantidadfurro,sexo,cuello,dientes,fisico,RH,nombre,colademono):\n",
        "    self.ojos=ojos\n",
        "    self.boca=boca\n",
        "    self.pelo=pelo\n",
        "    self.estatura=estatura\n",
        "    self.raza=raza\n",
        "    self.etnia=etnia\n",
        "    self.signo=signo\n",
        "    self.nobinario=nobinario\n",
        "    self.cantidadfurro=cantidadfurro\n",
        "    self.sexo=sexo\n",
        "    self.cuello=cuello\n",
        "    self.dientes=dientes\n",
        "    self.fisico=fisico\n",
        "    self.RH=RH\n",
        "    self.nombre=nombre\n",
        "    self.colademono=True   \n",
        "  def luna(self,luna):\n",
        "    if luna and self.colademono:\n",
        "      print(self.nombre, \" se va a transofrmar en MONO GIGANTE!!!\")\n",
        "    elif luna and self.colademono==False:\n",
        "      print(self.nombre, \" NO se va a transofrmar en MONO GIGANTE!!!\")\n",
        "    elif luna==False and self.colademono:\n",
        "      print(self.nombre, \" NO se va a transofrmar en MONO GIGANTE, AUNQUE TENGA COLA DE MONO!!!\")   \n",
        "class HUMANOS:\n",
        "  def __init__(self,nombre):\n",
        "    self.nombre=nombre\n",
        "  def movilizarse(self,velocidad):\n",
        "    if velocidad==0:\n",
        "      return f\"{self.nombre} está en estado de reposo.\"\n",
        "    elif velocidad>0 and velocidad<=1:\n",
        "      return f\"{self.nombre} está gateando.\"\n",
        "    elif velocidad>1 and velocidad<5:\n",
        "      return f\"{self.nombre} está caminando.\"\n",
        "    elif velocidad>5 and velocidad<5.9:\n",
        "      return f\"{self.nombre} está trotanto\"\n",
        "    elif velocidad>5.9 and velocidad<10:\n",
        "      return f\"{self.nombre} está corriendo\"\n",
        "    elif velocidad>10 and velocidad<=700:\n",
        "      return f\"{self.nombre} está papiando.\"\n",
        "    else:\n",
        "      return f\"{self.nombre} posiblemente no es humano.\"\n",
        "  def trabajos(self,trabajo):\n",
        "    job=[\"Desempleado\",\"Pandillero\",\"Comentarista\",\"Profesor\",\"Luchador\",\"Medico\"]\n",
        "    if job[trabajo] in trabajo:\n",
        "      if trabajo==0:\n",
        "        print(self.nombre,\"esta\",job[trabajo])\n",
        "      else:\n",
        "        print(self.nombre,\"es\",job[trabajo])\n",
        "    else:\n",
        "      print(self.nombre, \"posiblemente no es sayayin.\")\n",
        "\n",
        "velocidad1=float(input(\"Dime la velocidad: \"))\n",
        "nombre=str(input(\"Dime tu nombre: \"))\n",
        "nombre1= HUMANOS(nombre)\n",
        "carrera=nombre1.movilizarse(velocidad1)      \n",
        "\n",
        "print(carrera)"
      ],
      "metadata": {
        "id": "R0ghGkbDx0tA"
      }
    },
    {
      "cell_type": "code",
      "source": [
        "class Hibridos(Sayayin,Humanos):\n",
        "  def poderes():\n",
        "    print(self.nombre \"puede transformarse en modo bestia.\")"
      ],
      "metadata": {
        "id": "MBVw9vH9x6X3"
      },
      "execution_count": null,
      "outputs": []
    },
    {
      "cell_type": "code",
      "source": [
        "\n",
        "gohan=hibridos(\"gohan\",2,1,2,2,\"blanco\",1.8,70,\"M\")"
      ],
      "metadata": {
        "id": "UXyAxY7px80W"
      },
      "execution_count": null,
      "outputs": []
    },
    {
      "cell_type": "code",
      "source": [
        "gohan.luna(True)"
      ],
      "metadata": {
        "id": "K2tRFAa8x-nG"
      },
      "execution_count": null,
      "outputs": []
    },
    {
      "cell_type": "code",
      "source": [
        "gohan.luna"
      ],
      "metadata": {
        "id": "kn3T2G_4x-im"
      },
      "execution_count": null,
      "outputs": []
    }
  ]
}