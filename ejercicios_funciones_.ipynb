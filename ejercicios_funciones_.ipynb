{
  "nbformat": 4,
  "nbformat_minor": 0,
  "metadata": {
    "colab": {
      "provenance": []
    },
    "kernelspec": {
      "name": "python3",
      "display_name": "Python 3"
    },
    "language_info": {
      "name": "python"
    }
  },
  "cells": [
    {
      "cell_type": "code",
      "execution_count": null,
      "metadata": {
        "colab": {
          "base_uri": "https://localhost:8080/"
        },
        "id": "PnA1Io5MafLB",
        "outputId": "29f7ff65-7f62-49df-aac2-11b1430b30ba"
      },
      "outputs": [
        {
          "output_type": "stream",
          "name": "stdout",
          "text": [
            "4\n"
          ]
        }
      ],
      "source": [
        "def maximo(a,b):\n",
        "  input(print(\"primer numero\"))\n",
        "  if a>=b:\n",
        "    return a\n",
        "  else:\n",
        "    return b \n",
        "  \n",
        "a=2\n",
        "b=4\n",
        "print(maximo(a,b))\n",
        "\n"
      ]
    },
    {
      "cell_type": "code",
      "source": [
        "a=input(\"ingrese primer numero\")\n",
        "b=input(\"ingrese primer numero\")\n",
        "c=input(\"ingrese primer numero\")\n",
        "if a>b and a>c:\n",
        "  print(f\"{a} es mayor\")\n",
        "elif b>a and b>a:\n",
        "  print(f\"{b} es mayor\")\n",
        "else:\n",
        "  print(f\"{c} es mayor\")\n",
        "\n"
      ],
      "metadata": {
        "colab": {
          "base_uri": "https://localhost:8080/"
        },
        "id": "_F2jozGdceNw",
        "outputId": "0132c55a-ccc1-4ce9-c232-31362d6f5f62"
      },
      "execution_count": null,
      "outputs": [
        {
          "output_type": "stream",
          "name": "stdout",
          "text": [
            "ingrese primer numero5\n",
            "ingrese primer numero3\n",
            "ingrese primer numero8\n",
            "8 es mayor\n"
          ]
        }
      ]
    },
    {
      "cell_type": "code",
      "source": [
        "def suma (a,b,c):\n",
        "  d=a+b+c\n",
        "  return d\n",
        "valor=[0,0,0]\n",
        "\n",
        "for b in range(0,3):\n",
        "  valor[b]=int(input(\"ingrese numero\"))\n",
        "\n",
        "suma(valor[0],valor[1], valor[2])"
      ],
      "metadata": {
        "colab": {
          "base_uri": "https://localhost:8080/"
        },
        "id": "50ZUK2lVlKq-",
        "outputId": "5cb52cd7-029e-449b-c97c-b906c45c06ad"
      },
      "execution_count": 18,
      "outputs": [
        {
          "name": "stdout",
          "output_type": "stream",
          "text": [
            "ingrese numero4\n",
            "ingrese numero4\n",
            "ingrese numero4\n"
          ]
        },
        {
          "output_type": "execute_result",
          "data": {
            "text/plain": [
              "12"
            ]
          },
          "metadata": {},
          "execution_count": 18
        }
      ]
    },
    {
      "cell_type": "code",
      "source": [
        "a=int(input(\"ingrese numero\"))\n",
        "valores=[None]*a\n",
        "valores\n",
        "print(valores)\n",
        "for b in range(0,a):\n",
        "  valores[b]=int(input(\"ingrese numero\"))"
      ],
      "metadata": {
        "id": "ZSOMekbLfJgT",
        "colab": {
          "base_uri": "https://localhost:8080/"
        },
        "outputId": "7a164cac-327e-460e-fc73-1a180d67cd81"
      },
      "execution_count": 14,
      "outputs": [
        {
          "name": "stdout",
          "output_type": "stream",
          "text": [
            "ingrese numero8\n",
            "[None, None, None, None, None, None, None, None]\n",
            "ingrese numero5\n",
            "ingrese numero7\n",
            "ingrese numero4\n",
            "ingrese numero5\n",
            "ingrese numero6\n",
            "ingrese numero8\n",
            "ingrese numero2\n",
            "ingrese numero4\n"
          ]
        }
      ]
    },
    {
      "cell_type": "code",
      "source": [
        "def suma (a,b,c):\n",
        "  d=a*b*c\n",
        "  return d\n",
        "valor=[0,0,0]\n",
        "\n",
        "for b in range(0,3):\n",
        "  valor[b]=int(input(\"ingrese numero\"))\n",
        "\n",
        "suma(valor[0],valor[1], valor[2])"
      ],
      "metadata": {
        "colab": {
          "base_uri": "https://localhost:8080/"
        },
        "id": "WvsBoHyVmtD6",
        "outputId": "e5451ee5-dd84-46a5-d80f-ea574d77bdc3"
      },
      "execution_count": 19,
      "outputs": [
        {
          "name": "stdout",
          "output_type": "stream",
          "text": [
            "ingrese numero2\n",
            "ingrese numero2\n",
            "ingrese numero2\n"
          ]
        },
        {
          "output_type": "execute_result",
          "data": {
            "text/plain": [
              "8"
            ]
          },
          "metadata": {},
          "execution_count": 19
        }
      ]
    },
    {
      "cell_type": "code",
      "source": [
        "def suma (a,b,c,e):\n",
        "  d=a*b*c*e\n",
        "  return d\n",
        "valor=[0,0,0,0]\n",
        "\n",
        "for b in range(0,4):\n",
        "  valor[b]=int(input(\"ingrese numero\"))\n",
        "\n",
        "suma(valor[0],valor[1], valor[2], valor[3])"
      ],
      "metadata": {
        "colab": {
          "base_uri": "https://localhost:8080/"
        },
        "id": "URBd6SuKmngj",
        "outputId": "2d80e031-dcad-4f12-81df-220679ee3105"
      },
      "execution_count": 24,
      "outputs": [
        {
          "name": "stdout",
          "output_type": "stream",
          "text": [
            "ingrese numero2\n",
            "ingrese numero2\n",
            "ingrese numero2\n",
            "ingrese numero2\n"
          ]
        },
        {
          "output_type": "execute_result",
          "data": {
            "text/plain": [
              "16"
            ]
          },
          "metadata": {},
          "execution_count": 24
        }
      ]
    },
    {
      "cell_type": "code",
      "source": [
        "a=input(\"ingrese palabra\")\n",
        "def invertir(a):\n",
        "  return(a[::-1])\n",
        "invertir(a)"
      ],
      "metadata": {
        "colab": {
          "base_uri": "https://localhost:8080/",
          "height": 53
        },
        "id": "7D5XGhUDqu31",
        "outputId": "1d5f0303-e742-4656-8500-f0afb40ad41f"
      },
      "execution_count": 48,
      "outputs": [
        {
          "name": "stdout",
          "output_type": "stream",
          "text": [
            "ingrese palabrasapo\n"
          ]
        },
        {
          "output_type": "execute_result",
          "data": {
            "text/plain": [
              "'opas'"
            ],
            "application/vnd.google.colaboratory.intrinsic+json": {
              "type": "string"
            }
          },
          "metadata": {},
          "execution_count": 48
        }
      ]
    },
    {
      "cell_type": "code",
      "source": [
        "def factorial(n): \n",
        "    return 1 if (n==1 or n==0) else n * factorial(n - 1)\n",
        "  \n",
        "num=int(input(\"ingrese numero\"))\n",
        "print(\"Factorial of\",num,\"is\", factorial(num))"
      ],
      "metadata": {
        "colab": {
          "base_uri": "https://localhost:8080/"
        },
        "id": "f6ui_DBDpLDH",
        "outputId": "f56652cd-4ce6-4509-fdb3-1d454baef7eb"
      },
      "execution_count": 43,
      "outputs": [
        {
          "output_type": "stream",
          "name": "stdout",
          "text": [
            "ingrese numero4\n",
            "Factorial of 4 is 24\n"
          ]
        }
      ]
    },
    {
      "cell_type": "code",
      "source": [
        "c=input(\"ingrese un numero\")\n",
        "b=input(\"ingrese un rango\")\n",
        "a=input(\"ingrese un rango\")\n",
        "def inrango (a,b,c):\n",
        "  d=a>=c and c >=b\n",
        "  if d==True:\n",
        "    d=\"true\"\n",
        "  else:\n",
        "    d=\"false\"\n",
        "    return d\n",
        "print(c,\"esta dentro del rango: \" ,\"[\",b, \", \", a,\"]\")\n",
        "inrango(a,b,c)"
      ],
      "metadata": {
        "colab": {
          "base_uri": "https://localhost:8080/",
          "height": 105
        },
        "id": "OKClRY__q4n9",
        "outputId": "fa048252-5c13-49af-89bb-ace58d3c9f7a"
      },
      "execution_count": 55,
      "outputs": [
        {
          "output_type": "stream",
          "name": "stdout",
          "text": [
            "ingrese un numero4\n",
            "ingrese un rango5\n",
            "ingrese un rango10\n",
            "4 esta dentro del rango:  [ 5 ,  10 ]\n"
          ]
        },
        {
          "output_type": "execute_result",
          "data": {
            "text/plain": [
              "'false'"
            ],
            "application/vnd.google.colaboratory.intrinsic+json": {
              "type": "string"
            }
          },
          "metadata": {},
          "execution_count": 55
        }
      ]
    }
  ]
}