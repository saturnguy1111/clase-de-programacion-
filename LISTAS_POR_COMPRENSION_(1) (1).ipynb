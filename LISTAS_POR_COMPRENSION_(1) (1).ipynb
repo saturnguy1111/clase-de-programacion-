{
  "nbformat": 4,
  "nbformat_minor": 0,
  "metadata": {
    "colab": {
      "provenance": [],
      "collapsed_sections": []
    },
    "kernelspec": {
      "name": "python3",
      "display_name": "Python 3"
    },
    "language_info": {
      "name": "python"
    }
  },
  "cells": [
    {
      "cell_type": "code",
      "source": [],
      "metadata": {
        "id": "Ld94LRgmU_2c"
      },
      "execution_count": null,
      "outputs": []
    },
    {
      "cell_type": "code",
      "source": [
        "#Tradicional\n",
        "def listaIMC(usuarios):\n",
        "  sis = []\n",
        "  imc=[]\n",
        "  b=0\n",
        "  a2=0\n",
        "  for n in range (usuarios):\n",
        "    w=input(\"¿Cuál es tu nombre?  \") \n",
        "    sis.append((w,b/a2**2))\n",
        "    imc.append(b/a2**2)\n",
        "  return sis,imc\n",
        "\n",
        "\n",
        "user=int(input(\"¿Cuántos usuarios hay? \"))\n",
        "\n",
        "sis,imc=listaIMC(user)\n",
        "\n"
      ],
      "metadata": {
        "colab": {
          "base_uri": "https://localhost:8080/"
        },
        "id": "-xVH0Bqpk0YT",
        "outputId": "9d1c8483-e5c5-444e-8fd6-f3179ef18b02"
      },
      "execution_count": null,
      "outputs": [
        {
          "name": "stdout",
          "output_type": "stream",
          "text": [
            "¿Cuántos usuarios hay? 2\n",
            "¿Cuál es tu nombre?  ju\n",
            "Ingresa el peso  123\n",
            "Ingresa la altura  123\n",
            "¿Cuál es tu nombre?  jji\n",
            "Ingresa el peso  67\n",
            "Ingresa la altura  90\n"
          ]
        }
      ]
    },
    {
      "cell_type": "code",
      "source": [
        "imc"
      ],
      "metadata": {
        "colab": {
          "base_uri": "https://localhost:8080/"
        },
        "id": "zjHbu-3Bf0pd",
        "outputId": "2a5ea294-daaf-4747-8cd0-23c7bdea5d9f"
      },
      "execution_count": null,
      "outputs": [
        {
          "output_type": "execute_result",
          "data": {
            "text/plain": [
              "[0.008130081300813009, 0.008271604938271605]"
            ]
          },
          "metadata": {},
          "execution_count": 29
        }
      ]
    },
    {
      "cell_type": "code",
      "source": [
        "#Comprensión\n",
        "sis=listaIMC(user)\n",
        "sis2=[n for n in imc if n>= 18.5]\n",
        "print(sis2)"
      ],
      "metadata": {
        "colab": {
          "base_uri": "https://localhost:8080/"
        },
        "id": "kaHz4zL2qcKb",
        "outputId": "c63376ad-cc33-4d40-aa30-edb20a04fcc3"
      },
      "execution_count": null,
      "outputs": [
        {
          "output_type": "stream",
          "name": "stdout",
          "text": [
            "¿Cuál es tu nombre?  fbv\n",
            "Ingresa el peso  67\n",
            "Ingresa la altura  67\n",
            "¿Cuál es tu nombre?  hbn\n",
            "Ingresa el peso  45\n",
            "Ingresa la altura  67\n",
            "[]\n"
          ]
        }
      ]
    },
    {
      "cell_type": "code",
      "source": [
        "sis"
      ],
      "metadata": {
        "colab": {
          "base_uri": "https://localhost:8080/"
        },
        "id": "33LXmlpUc3cw",
        "outputId": "6abb9bf1-acea-4253-e9cc-9cc7305876db"
      },
      "execution_count": null,
      "outputs": [
        {
          "output_type": "execute_result",
          "data": {
            "text/plain": [
              "([('fbv', 0.014925373134328358), ('hbn', 0.010024504343951883)],\n",
              " [0.014925373134328358, 0.010024504343951883])"
            ]
          },
          "metadata": {},
          "execution_count": 31
        }
      ]
    },
    {
      "cell_type": "code",
      "source": [
        "sis[1][1]"
      ],
      "metadata": {
        "colab": {
          "base_uri": "https://localhost:8080/"
        },
        "id": "kXdKzWLPdIuH",
        "outputId": "b96531ae-2a31-4b2e-f25a-8a84629236eb"
      },
      "execution_count": null,
      "outputs": [
        {
          "output_type": "execute_result",
          "data": {
            "text/plain": [
              "0.010024504343951883"
            ]
          },
          "metadata": {},
          "execution_count": 32
        }
      ]
    },
    {
      "cell_type": "code",
      "source": [
        "#Lambda\n",
        "#IMC2=[28,30,40,35,100]\n",
        "#sis=listaIMC(user)\n",
        "sis3=list(map(lambda x: \"peso insuficiente\" if x<18.5 else \"peso normal\" if (x>=18.5 and x<24.9) else \"sobrepeso\" if (x>=24.9 and x<30) else \"obesidad\",imc))\n",
        "sis3"
      ],
      "metadata": {
        "colab": {
          "base_uri": "https://localhost:8080/"
        },
        "id": "k7spxrJ4PAAb",
        "outputId": "5df5dda2-c039-4766-b688-0f563e1e2749"
      },
      "execution_count": null,
      "outputs": [
        {
          "output_type": "execute_result",
          "data": {
            "text/plain": [
              "['peso insuficiente', 'peso insuficiente']"
            ]
          },
          "metadata": {},
          "execution_count": 33
        }
      ]
    },
    {
      "cell_type": "markdown",
      "source": [
        "#1. Samuelle"
      ],
      "metadata": {
        "id": "L0M9-vBuk6dw"
      }
    },
    {
      "cell_type": "code",
      "source": [
        "#Los tipos de datos mutables son todos aquellos a los que es posible cambia, modificar o actuar\n",
        "#Los objetos mutables más comunes son las listas, diccionarios y conjuntos que sirven para guiar\n",
        "\n",
        "#SINTAXIS DE LISTAS POR COMPRENSIÓN\n",
        "\n",
        "nueva_lista = [expresion bucle_for condiciones]\n",
        "\n",
        "#Entre corchetes se escribe una expresión seguida de un bucle for sobre el que se itera, para"
      ],
      "metadata": {
        "id": "LVVomvQSpcLg"
      },
      "execution_count": null,
      "outputs": []
    },
    {
      "cell_type": "code",
      "source": [
        "#EJEMPLO\n",
        "\n",
        "numbers = [1,2,3,4]\n",
        "results = []\n",
        "for n in numbers:\n",
        "    results.append(n+1)\n",
        "    "
      ],
      "metadata": {
        "id": "8N_NFssxqNVe"
      },
      "execution_count": null,
      "outputs": []
    },
    {
      "cell_type": "code",
      "source": [
        "numbers=[1,2,3,4]\n",
        "results =[n+1 for n in numbers if n < 5]\n",
        "results"
      ],
      "metadata": {
        "id": "dypobXSkqyoV"
      },
      "execution_count": null,
      "outputs": []
    },
    {
      "cell_type": "code",
      "source": [
        "results2=lambda numbers:results\n",
        "print(results2(numbers))"
      ],
      "metadata": {
        "id": "5aBuq-Ulk_8f"
      },
      "execution_count": null,
      "outputs": []
    },
    {
      "cell_type": "markdown",
      "source": [
        "#2.Jesús"
      ],
      "metadata": {
        "id": "3ql8oWq0rcTl"
      }
    },
    {
      "cell_type": "code",
      "source": [
        "n=int(input(\"Hasta que número quieres imprimir los pares e impares: \"))\n",
        "pares=[número for número in range(0,n+1) if número%2==0]\n",
        "print(pares)\n",
        "impares=[número for número in range (0,n+1) if número%2!=0]\n",
        "print(impares)"
      ],
      "metadata": {
        "id": "3Snu_vy-rfA7"
      },
      "execution_count": null,
      "outputs": []
    },
    {
      "cell_type": "code",
      "source": [
        "num=int(input(\"Hasta que número quieres imprimir los pares e impares: \"))\n",
        "def hola(n):\n",
        "  pares=[número for número in range(0,n+1) if número%2==0]\n",
        "  print(pares)\n",
        "  impares=[número for número in range (0,n+1) if número%2!=0]\n",
        "  print(impares)\n",
        "  hola(num)\n"
      ],
      "metadata": {
        "id": "Z0vcU_L_sLrA"
      },
      "execution_count": null,
      "outputs": []
    },
    {
      "cell_type": "code",
      "source": [
        "num=int(input(\"Hasta que número quieres imprimir los pares e impares: \"))\n",
        "mi_lista=[n for n in range(0,num+1)]\n",
        "impares=list(filter(lambda num:num%2==0,mi_lista))\n",
        "print(impares)\n",
        "pares=list(filter(lambda num:num%2!=0,mi_lista))\n",
        "print(pares)"
      ],
      "metadata": {
        "id": "L73lUjQvspbJ"
      },
      "execution_count": null,
      "outputs": []
    },
    {
      "cell_type": "markdown",
      "source": [
        "#3. Jhon"
      ],
      "metadata": {
        "id": "fMCAoSWwmUys"
      }
    },
    {
      "cell_type": "code",
      "source": [
        "#Tradicional\n",
        "def perfecto(número):\n",
        "  perf=0\n",
        "  for i in range (1,número):\n",
        "    if número %i==0:\n",
        "      perf+=i\n",
        "  if perf ==número:\n",
        "    print(\"es número perfecto\")\n",
        "    return True\n",
        "  else:\n",
        "    print(\"no es número perfecto\")\n",
        "número=6\n",
        "perfecto(número)\n"
      ],
      "metadata": {
        "colab": {
          "base_uri": "https://localhost:8080/"
        },
        "id": "Ql54iY_FmWzE",
        "outputId": "ddeaa096-b3b4-48e6-b401-3a6ac351bc12"
      },
      "execution_count": null,
      "outputs": [
        {
          "output_type": "stream",
          "name": "stdout",
          "text": [
            "es número perfecto\n"
          ]
        },
        {
          "output_type": "execute_result",
          "data": {
            "text/plain": [
              "True"
            ]
          },
          "metadata": {},
          "execution_count": 67
        }
      ]
    },
    {
      "cell_type": "code",
      "source": [
        "def numeros():\n",
        "  a=int(input(\"Ingresa un número\"))\n",
        "  b=int(input(\"Ingresa un número\"))\n",
        "  c=int(input(\"Ingresa un número\"))\n",
        "  d=int(input(\"Ingresa un número\"))\n",
        "  perfect=[a,b,c,d]\n",
        "\n",
        "  perfect1=[elemento for elemento in perfect if perfect(elemento)==True]\n",
        "numeros()"
      ],
      "metadata": {
        "id": "eHsQEt2OtZMh"
      },
      "execution_count": null,
      "outputs": []
    },
    {
      "cell_type": "code",
      "source": [
        "lista=[2,3,6,4]\n",
        "#Lambda y map\n",
        "perfect2=list(map(lambda elemento:perfecto(elemento)==True,lista))\n",
        "perfect2"
      ],
      "metadata": {
        "id": "Hbe7-SUMn6t4"
      },
      "execution_count": null,
      "outputs": []
    },
    {
      "cell_type": "markdown",
      "source": [
        "#4. Juandivox"
      ],
      "metadata": {
        "id": "dQPz_ZNbneIr"
      }
    },
    {
      "cell_type": "code",
      "source": [
        "#Método tradicional\n",
        "numero1= [random.randint(0,2000) for x in range(100)]\n",
        "numero2= [random.randint(0,2000) for x in range(100)]\n",
        "comun=[]\n",
        "for a in numero1:\n",
        "  for b in numero2:\n",
        "    if a == b:\n",
        "      comun.append(a)\n",
        "print(comun)\n"
      ],
      "metadata": {
        "colab": {
          "base_uri": "https://localhost:8080/"
        },
        "id": "seDU-cXInjlS",
        "outputId": "025513db-d437-4b56-c95f-638b5065f310"
      },
      "execution_count": null,
      "outputs": [
        {
          "output_type": "stream",
          "name": "stdout",
          "text": [
            "[1513, 1894]\n"
          ]
        }
      ]
    },
    {
      "cell_type": "code",
      "source": [
        "#Método comprensión\n",
        "import random\n",
        "numero1= [random.randint(0,2000) for x in range(100)]\n",
        "numero2= [random.randint(0,2000) for x in range(100)]\n",
        "comun=[x for x in numero1 for y in numero2 if x==y]\n",
        "print(comun)"
      ],
      "metadata": {
        "colab": {
          "base_uri": "https://localhost:8080/"
        },
        "id": "E8mR4QF-o38i",
        "outputId": "612e7668-95c5-4288-fbc6-afc0e0a42f00"
      },
      "execution_count": null,
      "outputs": [
        {
          "output_type": "stream",
          "name": "stdout",
          "text": [
            "[427, 319, 762, 1970, 225, 1612, 1243, 1154]\n"
          ]
        }
      ]
    },
    {
      "cell_type": "code",
      "source": [
        "#Método Lambda\n",
        "import random\n",
        "numero1= [random.randint(0,2000) for x in range(100)]\n",
        "numero2= [random.randint(0,2000) for x in range(100)]\n",
        "comun=[]\n",
        "comun=list(filter(lambda num:num in numero1,numero2))\n",
        "print(comun)"
      ],
      "metadata": {
        "colab": {
          "base_uri": "https://localhost:8080/"
        },
        "id": "zzt5w8BMpVsX",
        "outputId": "ab6c067d-ad7a-469b-bfd1-48d0c51ada44"
      },
      "execution_count": null,
      "outputs": [
        {
          "output_type": "stream",
          "name": "stdout",
          "text": [
            "[1603, 1001, 866, 901, 1465]\n"
          ]
        }
      ]
    },
    {
      "cell_type": "markdown",
      "source": [
        "#5. Daniel"
      ],
      "metadata": {
        "id": "I-tFemnLrGIu"
      }
    },
    {
      "cell_type": "code",
      "source": [
        "#Tradicional\n",
        "def square1(num):\n",
        "  return num **2\n",
        "print(square1(5))"
      ],
      "metadata": {
        "colab": {
          "base_uri": "https://localhost:8080/"
        },
        "id": "IYXWJwW7rI62",
        "outputId": "dce0a4d5-1f50-4362-a20a-165872d219fe"
      },
      "execution_count": null,
      "outputs": [
        {
          "output_type": "stream",
          "name": "stdout",
          "text": [
            "25\n"
          ]
        }
      ]
    },
    {
      "cell_type": "code",
      "source": [
        "#Comprensión\n",
        "L = [2,4,6,8]\n",
        "L2 = [n**2 for n in L]\n",
        "print(L2)"
      ],
      "metadata": {
        "colab": {
          "base_uri": "https://localhost:8080/"
        },
        "id": "wrvb4wQ3rlTk",
        "outputId": "7dffd3e8-2504-496f-c521-86105447a85a"
      },
      "execution_count": null,
      "outputs": [
        {
          "output_type": "stream",
          "name": "stdout",
          "text": [
            "[4, 16, 36, 64]\n"
          ]
        }
      ]
    },
    {
      "cell_type": "code",
      "source": [
        "#Lambda\n",
        "lambda_func= lambda x:x**2\n",
        "lambda_func(3)"
      ],
      "metadata": {
        "colab": {
          "base_uri": "https://localhost:8080/"
        },
        "id": "d9_EGX_SrxkT",
        "outputId": "6bb86e2e-e0d0-49ae-8db1-bc20c632885c"
      },
      "execution_count": null,
      "outputs": [
        {
          "output_type": "execute_result",
          "data": {
            "text/plain": [
              "9"
            ]
          },
          "metadata": {},
          "execution_count": 22
        }
      ]
    },
    {
      "cell_type": "markdown",
      "source": [
        "#6. Angie"
      ],
      "metadata": {
        "id": "ZXla5TWFsBac"
      }
    },
    {
      "cell_type": "code",
      "source": [
        "nom1 = [\"Samuelle\" ,\"Angie\" ,\"Valentina\" ,\"Alejandro\" ,\"Jonsito\"]\n",
        "nom2 = [\"Samuelle\" ,\"Andrea\" ,\"Sandra\" ,\"Anderson\" ,\"Jonsito\"]\n"
      ],
      "metadata": {
        "id": "v8L1JKvesDRx"
      },
      "execution_count": null,
      "outputs": []
    },
    {
      "cell_type": "code",
      "source": [
        "#Comprensión\n",
        "common={a for a in nom1 for b in nom2 if a == b}\n",
        "common"
      ],
      "metadata": {
        "colab": {
          "base_uri": "https://localhost:8080/"
        },
        "id": "TI31vOK8t9J7",
        "outputId": "c88686c0-a6b6-40ca-88cf-1f048e32a421"
      },
      "execution_count": null,
      "outputs": [
        {
          "output_type": "execute_result",
          "data": {
            "text/plain": [
              "{'Jonsito', 'Samuelle'}"
            ]
          },
          "metadata": {},
          "execution_count": 36
        }
      ]
    },
    {
      "cell_type": "code",
      "source": [
        "#Lambda\n",
        "common1=lambda nom1,nom2:common\n",
        "print(common1(nom1,nom2))"
      ],
      "metadata": {
        "colab": {
          "base_uri": "https://localhost:8080/"
        },
        "id": "S19IP3WOuT3y",
        "outputId": "7a033c29-95c6-48dd-c359-51998e4eb79b"
      },
      "execution_count": null,
      "outputs": [
        {
          "output_type": "stream",
          "name": "stdout",
          "text": [
            "{'Jonsito', 'Samuelle'}\n"
          ]
        }
      ]
    },
    {
      "cell_type": "code",
      "source": [
        "#Tradicional\n",
        "def common(nom1,nom2):\n",
        "  return nom1,nom2"
      ],
      "metadata": {
        "id": "jPfClwW2ug4i"
      },
      "execution_count": null,
      "outputs": []
    },
    {
      "cell_type": "code",
      "source": [
        "nom1,nom2"
      ],
      "metadata": {
        "colab": {
          "base_uri": "https://localhost:8080/"
        },
        "id": "ZlcHdV4Supo5",
        "outputId": "7247ce39-0584-41da-829e-6d81c179b123"
      },
      "execution_count": null,
      "outputs": [
        {
          "output_type": "execute_result",
          "data": {
            "text/plain": [
              "(['Samuelle', 'Angie', 'Valentina', 'Alejandro', 'Jonsito'],\n",
              " ['Samuelle', 'Andrea', 'Sandra', 'Anderson', 'Jonsito'])"
            ]
          },
          "metadata": {},
          "execution_count": 39
        }
      ]
    },
    {
      "cell_type": "markdown",
      "source": [
        "#8. Luis Miguel"
      ],
      "metadata": {
        "id": "oDVo85qeur-Z"
      }
    },
    {
      "cell_type": "code",
      "source": [
        "#Tradicional\n",
        "print(\"ingrese su código \")\n",
        "caracter=input()\n",
        "if len(caracter) ==8:\n",
        "  if caracter[0]== \"u\":\n",
        "    print(\"Eres estudiante Unab\")\n",
        "  elif(caracter.startswhith(\"a000\")):\n",
        "    print(\"Eres estudiante de los andes\")\n",
        "  else:\n",
        "    if(int(caracter)>=1950):\n",
        "      print(\"Eres estudiante UIS\")\n",
        "else:\n",
        "  print(\"No corresponde a ninguna universidad, revisa tu código\")"
      ],
      "metadata": {
        "id": "xG215o02y0Pr"
      },
      "execution_count": null,
      "outputs": []
    },
    {
      "cell_type": "code",
      "source": [
        "#Comprensión\n",
        "universidades=[\"unab\",\"uis\",\"andes\"]\n",
        "codigo=[\"U0123456\",\"198562\",\"a0005645\"]\n",
        "\n",
        "u=[cod for cod in codigo if cod[0]==\"u\" and len(cod)==8]\n",
        "print(u)"
      ],
      "metadata": {
        "colab": {
          "base_uri": "https://localhost:8080/"
        },
        "id": "ngRiZNSL1ZJA",
        "outputId": "81addd11-cf90-421b-a531-8a53ae0f9657"
      },
      "execution_count": null,
      "outputs": [
        {
          "output_type": "stream",
          "name": "stdout",
          "text": [
            "[]\n"
          ]
        }
      ]
    },
    {
      "cell_type": "code",
      "source": [
        "#Lambda\n",
        "y=list(map(lambda x:\"unab\" if (x[0]==\"U\")))"
      ],
      "metadata": {
        "id": "qPrbLAHL18Iw"
      },
      "execution_count": null,
      "outputs": []
    },
    {
      "cell_type": "code",
      "source": [
        "productos=[\"milk\",\"bread\",\"butter\",\"apple\",\"watermelon\",\"banana\",\"candy\",\"water\",\"ice\"]\n",
        "precio=[3,4,10,2,5,4,5,3,2,9,5,6,5]\n",
        "precio_productos = {productos:precio for (productos, precio)in zip(productos,precio) }\n",
        "print(precio_productos)"
      ],
      "metadata": {
        "id": "78uRvT-l24nd",
        "colab": {
          "base_uri": "https://localhost:8080/"
        },
        "outputId": "eda4c742-da1d-4f39-b6fd-15f6ef2285c7"
      },
      "execution_count": null,
      "outputs": [
        {
          "output_type": "stream",
          "name": "stdout",
          "text": [
            "{'milk': 3, 'bread': 4, 'butter': 10, 'apple': 2, 'watermelon': 5, 'banana': 4, 'candy': 5, 'water': 3, 'ice': 2}\n"
          ]
        }
      ]
    },
    {
      "cell_type": "code",
      "source": [
        "descuentos = {productos:precio for (productos, precio) in precio_productos.items() if precio<5}\n",
        "print(descuentos)"
      ],
      "metadata": {
        "id": "Fj2fOvlRN7JK"
      },
      "execution_count": null,
      "outputs": []
    },
    {
      "cell_type": "code",
      "source": [
        "productos={\"papas\":1300,\"jugos\":1800,\"dulces\":800,\"leche\":4200}\n",
        "operacion={x:y*1.19 for (x,y) in productos.items()}\n",
        "print(f\"el precio sin iva de los productos es:{productos}\")\n",
        "print(\"\"*60)\n",
        "print(f\"el precio con iva de los productos es: {operacion}\")"
      ],
      "metadata": {
        "id": "IcqHKV0nK81Q"
      },
      "execution_count": null,
      "outputs": []
    },
    {
      "cell_type": "code",
      "source": [
        "tienda={\"papas\":1300,\"jugos\":1800,\"dulces\":800,\"leche\":4200}"
      ],
      "metadata": {
        "id": "Dmng6PfNQXSk"
      },
      "execution_count": null,
      "outputs": []
    },
    {
      "cell_type": "code",
      "source": [
        "def check_temp(value):\n",
        "  if value >= 70:\n",
        "    return \"hot\"\n",
        "  elif 69 >= value >= 40:\n",
        "    return \"warn\"\n",
        "  else:\n",
        "    return \"Cold\"\n",
        "\n",
        "cities={\"New York\": 32, \"Boston\": 7, \"Los Angeles\": 100, \"Chicago\":50}\n",
        "des_cities ={key: check_temp(value) for (key, value) in cities.items()}\n",
        "print(des_cities)"
      ],
      "metadata": {
        "id": "prAVjZaxVLIq"
      },
      "execution_count": null,
      "outputs": []
    },
    {
      "cell_type": "code",
      "source": [
        "#Diccionarios por tradicional\n",
        "import random\n",
        "compañeros=[]\n",
        "def aleatorio(opciones):\n",
        "  opciones = list(opciones)\n",
        "  while True:\n",
        "    x=random.choice(opciones)\n",
        "    opciones.remove(x)\n",
        "    yield x\n",
        "print(\"Para no agregar mas nombres escribe '0'\") \n",
        "a=\"t\"\n",
        "while a!=\"0\":\n",
        "  a=(input(\"Ingresa el nombre de tu compañero: \")) \n",
        "  if a!=\"0\":\n",
        "    compañeros.append(a)\n",
        "\n",
        "cantidad=len(compañeros) \n",
        "numeros=[num for num in range (1,(cantidad+1))]\n",
        "alt= aleatorio(numeros)\n",
        "alt= aleatorio(numeros)\n",
        "num_alt={orden:next(alt) for orden in compañeros}\n",
        "print(num_alt)\n",
        "\n"
      ],
      "metadata": {
        "colab": {
          "base_uri": "https://localhost:8080/"
        },
        "id": "X0JQ_fPjW_3t",
        "outputId": "123c6dbb-f4a4-4911-d03a-3f6b51efe020"
      },
      "execution_count": null,
      "outputs": [
        {
          "output_type": "stream",
          "name": "stdout",
          "text": [
            "Para no agregar mas nombres escribe '0'\n",
            "Ingresa el nombre de tu compañero: d\n",
            "Ingresa el nombre de tu compañero: a\n",
            "Ingresa el nombre de tu compañero: g\n",
            "Ingresa el nombre de tu compañero: b\n",
            "Ingresa el nombre de tu compañero: 0\n",
            "{'d': 1, 'a': 4, 'g': 3, 'b': 2}\n"
          ]
        }
      ]
    },
    {
      "cell_type": "code",
      "source": [
        "import random\n",
        "compañeros=[]\n",
        "def aleatorio(opciones):\n",
        "  opciones = list(opciones)\n",
        "  while True:\n",
        "    x =random.choice(opciones)\n",
        "    opciones.remove(x)\n",
        "    yield x\n",
        "    print(\"para no agregar mas nombres escribe \",\"0\")\n",
        "    a=\"t\"\n",
        "    compañeros.append(a)\n",
        "    cantidad=len(compañeros)\n",
        "    valores=[n for n in range (1, cantidad+1)]\n",
        "    numeros=list(map(lambda num: num, valores))\n",
        "    alt=aleatorio\n",
        "    num_alt=dict(map(lambda orden:(orden, next(alt)),compañeros))\n",
        "    print(num_alt)"
      ],
      "metadata": {
        "id": "rE4Ge6UgcQYA"
      },
      "execution_count": null,
      "outputs": []
    },
    {
      "cell_type": "code",
      "source": [
        "from typing_extensions import DefaultDict\n",
        "\n",
        "import random\n",
        "def A ():\n",
        "  CS=[\"Andru\", \"David\", \"Sebas\"]\n",
        "  CS=[\"Andres\", \"Flowey\", \"Cata\", \"Karen\"]\n",
        "  DD={CS: random.randint(1,50) for CS in CS}\n",
        "  DD1= {CS: random.randint(1,50) for CS in CS}\n",
        "  return(DD, DD1)\n",
        "A()\n"
      ],
      "metadata": {
        "colab": {
          "base_uri": "https://localhost:8080/"
        },
        "id": "dsW1eD9ndJIG",
        "outputId": "f2015067-dd17-4e7a-95db-efad5fc37f42"
      },
      "execution_count": null,
      "outputs": [
        {
          "output_type": "execute_result",
          "data": {
            "text/plain": [
              "({'Andres': 28, 'Flowey': 15, 'Cata': 39, 'Karen': 24},\n",
              " {'Andres': 19, 'Flowey': 33, 'Cata': 2, 'Karen': 5})"
            ]
          },
          "metadata": {},
          "execution_count": 12
        }
      ]
    },
    {
      "cell_type": "code",
      "source": [
        "from typing_extensions import DefaultDict\n",
        "\n",
        "import random\n",
        "cs=[\"Andru\", \"David\", \"Sebas\"]\n",
        "CS=[\"Andres\", \"Flowey\", \"Cata\", \"Karen\"]\n",
        "DD=(dict(map(lambda DD: (DD, random.randint(1,50)), cs)))\n",
        "DD1=(dict(map(lambda DD1: (DD1, random.randint(1,50)), CS)))\n",
        "\n",
        "print(DD, DD1)"
      ],
      "metadata": {
        "colab": {
          "base_uri": "https://localhost:8080/"
        },
        "id": "xlorXQvkmCYX",
        "outputId": "e193d713-9079-4fe4-92a9-15d1bf19159e"
      },
      "execution_count": null,
      "outputs": [
        {
          "output_type": "stream",
          "name": "stdout",
          "text": [
            "{'Andru': 32, 'David': 3, 'Sebas': 30} {'Andres': 45, 'Flowey': 4, 'Cata': 20, 'Karen': 46}\n"
          ]
        }
      ]
    },
    {
      "cell_type": "code",
      "source": [
        "##ADRIAN PARRA \n",
        "\n",
        "#COMPRENSIÓN \n",
        "nomre=str(input(\"ingrese el nombre del atleta: \"))\n",
        "N=int(input(\"ingrese el número de saltos: \"))\n",
        "def fun(nombre, a):\n",
        "  lista=[]\n",
        "  for i in range(0,a):\n",
        "    name=str(f\"salto {i+1}\")\n",
        "    lista. append(name) \n",
        "print(\"--------------------\")\n",
        "print(\"la altura de los saltos se mide en metros\")\n",
        "dic_lista={lista:float(input(f\"ingrese la altura del salto: \")) for lista in lista}\n",
        "distancia=sorted(dic_lista.values())\n",
        "mayor=distancis[-1]\n",
        "print(\"-------------------\")\n",
        "print(f\"atleta {nombre}:\")\n",
        "print(dic_lista)\n",
        "sum=0\n",
        "for i in dic_lista.values():\n",
        "  sum+=1\n",
        "prom=sum/a\n",
        "redprom0round(prom, 2)\n",
        "print(f\"el promedio de los {a} saltos es de {redprom} metros, teniendo que el mayor fue aquel con {mayor} metros de altura\")\n",
        "fun(nombre, N)\n",
        "#lambda\n",
        "from functools import reduce\n",
        "nombre=str(input(\"ingres el nombre del atleta: \"))\n",
        "a=int(input(\"ingrese el número de saltos: \")) \n",
        "lista=[]\n",
        "for i in range(0,a):\n",
        "  name=str(f\"salto {i+1}\")\n",
        "  lista.append(name) \n",
        "print(\"-----------------\")\n",
        "print(\"la altura de los saltos se mide en metros\") \n",
        "dic_lista=(dict(map(lambda x:(x, float(input(f\"ingrese la altura del salto:\"))), lista)))\n",
        "distancia=sorted(dic_listas.values())\n",
        "mayor=distancia[-1]\n",
        "print(\"------------------\")\n",
        "print(f\"atleta{nombre}:\")\n",
        "print(dic_lista)\n",
        "sum=reduce(lambda distancia,distancia1:distancia+distancia1, distancia)\n",
        "prom=float(sum)/a\n",
        "redprom=round(prom, 2)\n",
        "print(f\"el promedio de los dos {a} saltos es de {redprom} metros, teniendo que el mayor fue aquel con {mayor} metros que altura\")"
      ],
      "metadata": {
        "id": "eBqd6ZjzoSzT"
      },
      "execution_count": null,
      "outputs": []
    },
    {
      "cell_type": "code",
      "source": [
        "#juan david arenales\n",
        "#comprension \n",
        "import pandas as pd\n",
        "import random\n",
        "def menu(C,E,N,n):\n",
        "  b=int(input(\"menu:/n1)añadir contacto/n2)eliminar contacto/n3)lista de contactos/n4)darle emojis aleatorios\"))\n",
        "  if b==1: #añade contactos\n",
        "    d=input(\"nombre: \")\n",
        "    f=d in N \n",
        "    while f==True:\n",
        "      d=input(\"ya existe un contacto con ese nombre, escoja otro:\")\n",
        "      f=d in C[\"nombre\"]\n",
        "      e=input(\"numero\")\n",
        "      N.append(d)\n",
        "      n.append(e)\n",
        "    if b==2:\n",
        "      o=input(\"nombre\")\n",
        "      f=d in N \n",
        "      if f==False:\n",
        "        print(\"No existe un contacto con ese nombre\")\n",
        "      else:\n",
        "        i=N.index(d)\n",
        "        N.pop(i)\n",
        "        n.pop(i)\n",
        "      if b==3:\n",
        "        C={N[z]: n[z] for z in range(len(N))}\n",
        "        if b==4:\n",
        "          C={N[z]: (n[z], E[random.randint(0,3)]) for z in range(len(N))}\n",
        "          print(pd.DataFrame.from_dict(C)) \n",
        "        return C \n",
        "      \n",
        "      C={}\n",
        "      E=[\"B)\",\":)\",\"<3\",\">:v\"]\n",
        "      N=[\"juan\", \"Kyle\"] #Nombres default n=[\"453\",\"64782\"] #Números default\n",
        "\n",
        "      a=True\n",
        "      while a==True: menu (C,E,N,n)\n",
        "          menu(C,E,N,n)\n"
      ],
      "metadata": {
        "id": "ecuw5UQXooey"
      },
      "execution_count": null,
      "outputs": []
    },
    {
      "cell_type": "code",
      "source": [
        "Como usar la compresión de diccionario para crear un diccionario de Python a partir de una iteración.\n",
        "Podemos crear un nuevo diccionario en Python usando solamente un iterable si elegimos generar ya sea las claves o los valores en marcha.\n",
        "Cuando elegimos generar los valores en cuestión, podemos usar los items en el iterable cómo claves, y viceversa. La sintaxis general es mostrada bajo. Por favor, observa que los nombres entre <> son marcadores de posición para los nombres actuales de las variables.\n",
        "Ejemplo 1\n",
        "Supongamos que tenemos una lista de clientes que visitan nuestra tienda, y nos gustaría ofrecer un descuento aleatorio a cada cliente. Nos gustaría además, que el valor de descuento se encuentre entre 1y100.\n",
        "En Python, random.randint(i,j) retorna un valor entre i y j incluyendo ambos extremos. Por tanto, podemos utilizar la función randint() para generar un descuento entre 1y100 para cada cliente en la lista.\n",
        "El siguiente código nos mostrará cómo podemos crear un diccionario de descuentos a partir de la lista de clientes."
      ],
      "metadata": {
        "id": "EO26aWNyC9ry"
      },
      "execution_count": null,
      "outputs": []
    },
    {
      "cell_type": "code",
      "source": [
        "#Daniel Rodriguez\n",
        "import random\n",
        "diccionario=[\"cliente 1\",\"cliente 2\",\"cliente 3\",\"cliente 4\",\"cliente 5\"]\n",
        "tienda=(dict(map(lambda tienda:(tienda,random.randint(1000,100000)),diccionario)))\n",
        "tienda_sort=sorted(tienda.values())\n",
        "mayor=tienda_sort[-1]\n",
        "mayor1=tienda_sort[4::]\n",
        "cliente=list(tienda.values()).index(mayor)\n",
        "oferta={producto*0.8 for producto in mayor1}\n",
        "def get_key (val):\n",
        "  for key,value in tienda.items():\n",
        "    if val==value:\n",
        "     return key\n",
        "print(f\"El {get_key(mayor)} tuvo la mayor compra con un valor de: {mayor}, por lo tanto obtuvo un descuento del 20%, su total fue: {oferta}\")"
      ],
      "metadata": {
        "id": "5BjEQ747C-Qm"
      },
      "execution_count": null,
      "outputs": []
    },
    {
      "cell_type": "code",
      "source": [
        "#Daniel Rodriguez\n",
        "import random\n",
        "diccionario=[\"cliente 1\",\"cliente 2\",\"cliente 3\",\"cliente 4\",\"cliente 5\"]\n",
        "def cositas (a):\n",
        " tienda={diccionario: random.randint(1000,100000) for diccionario in diccionario}\n",
        " tienda_sort=sorted(tienda.values())\n",
        " mayor=tienda_sort[-1]\n",
        " mayor1=tienda_sort[4::]\n",
        " cliente=list(tienda.values()).index(mayor)\n",
        " if cliente==0:\n",
        "   a=\"cliente 1\"\n",
        " if cliente==1:\n",
        "   a=\"cliente 2\"\n",
        " if cliente==2:\n",
        "   a=\"cliente 3\"\n",
        " if cliente==3:\n",
        "   a=\"cliente 4\"\n",
        " if cliente==4:\n",
        "   a=\"cliente 5\"\n",
        " oferta={producto*0.8 for producto in mayor1}\n",
        " print(f\"El {a} tuvo la mayor compra con un valor de: {mayor}, por lo tanto obtuvo un descuento del 20%, su total fue: {oferta}\")\n",
        "cositas(diccionario)"
      ],
      "metadata": {
        "id": "Ephwl2kyDDTd"
      },
      "execution_count": null,
      "outputs": []
    },
    {
      "cell_type": "code",
      "source": [
        "#Daniel Rodriguez\n",
        "import random\n",
        "diccionario=[\"cliente 1\",\"cliente 2\",\"cliente 3\",\"cliente 4\",\"cliente 5\"]\n",
        "tienda={diccionario: random.randint(1000,100000) for diccionario in diccionario}\n",
        "tienda_sort=sorted(tienda.values())\n",
        "mayor=tienda_sort[-1]\n",
        "mayor1=tienda_sort[4::]\n",
        "cliente=list(tienda.values()).index(mayor)\n",
        "if cliente==0:\n",
        "  a=\"cliente 1\"\n",
        "if cliente==1:\n",
        "  a=\"cliente 2\"\n",
        "if cliente==2:\n",
        "  a=\"cliente 3\"\n",
        "if cliente==3:\n",
        "  a=\"cliente 4\"\n",
        "if cliente==4:\n",
        "  a=\"cliente 5\"\n",
        "oferta={producto*0.8 for producto in mayor1}\n",
        "print(f\"El {a} tuvo la mayor compra con un valor de: {mayor}, por lo tanto obtuvo un descuento del 20%, su total fue: {oferta}\")"
      ],
      "metadata": {
        "id": "7_5vxHyXDKiu"
      },
      "execution_count": null,
      "outputs": []
    }
  ]
}