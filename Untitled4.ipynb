{
  "nbformat": 4,
  "nbformat_minor": 0,
  "metadata": {
    "colab": {
      "name": "Untitled4.ipynb",
      "provenance": []
    },
    "kernelspec": {
      "name": "python3",
      "display_name": "Python 3"
    },
    "language_info": {
      "name": "python"
    }
  },
  "cells": [
    {
      "cell_type": "code",
      "execution_count": 35,
      "metadata": {
        "colab": {
          "base_uri": "https://localhost:8080/"
        },
        "id": "zmArQ-29qsDD",
        "outputId": "9032f61c-0a43-4283-ef75-c68f2cb25552"
      },
      "outputs": [
        {
          "output_type": "stream",
          "name": "stdout",
          "text": [
            "escriba el primer numero16\n",
            "escriba el segundo numero45\n",
            "la division no es exacta\n"
          ]
        }
      ],
      "source": [
        "num=int(input(\"escriba el primer numero\"))\n",
        "num2=int(input(\"escriba el segundo numero\"))\n",
        "if num==0:\n",
        "  print(\"no se puede dividir\")\n",
        "else:\n",
        "  if (num%num2)==0:\n",
        "    print(\"la division es exacta\")\n",
        "  else:\n",
        "    print(\"la division no es exacta\")\n",
        "\n"
      ]
    },
    {
      "cell_type": "code",
      "source": [
        "numero=int(input(\"escriba el primer numero\"))\n",
        "numero2=int(input(\"escriba el segundo numero\"))\n",
        "\n",
        "if numero % numero2 == 0:\n",
        "    print(\"Sí es múltiplo\")\n",
        "else:\n",
        "    print(\"No es múltiplo\")"
      ],
      "metadata": {
        "colab": {
          "base_uri": "https://localhost:8080/"
        },
        "id": "9-GYP8NX89Mk",
        "outputId": "078d2258-3cf7-4026-9028-3231f08c2717"
      },
      "execution_count": 43,
      "outputs": [
        {
          "output_type": "stream",
          "name": "stdout",
          "text": [
            "escriba el primer numero45\n",
            "escriba el segundo numero5\n",
            "Sí es múltiplo\n"
          ]
        }
      ]
    },
    {
      "cell_type": "code",
      "source": [
        "N1=int(input(\"escriba la edad del primer hermano\"))\n",
        "N2=int(input(\"escriba la edad del segundo hermano\"))\n",
        "N3=int(input(\"escriba la edad del tercer hermano\"))\n",
        "if (N1>N2 and N2>N3):\n",
        "  print(\"\",N1,\"-\",N2,\"-\",N3)\n",
        "elif (N2>N1 and N1>N3):\n",
        "  print(\"\",N2,\"-\",N1,\"-\",N3)\n",
        "elif (N3>N1 and N1>N2):\n",
        "  print(\"\",N3,\"-\",N1,\"-\",N2)\n",
        "elif (N3>N2 and N2>N1):\n",
        "  print(\"\",N3,\"-\",N2,\"-\",N1)\n",
        "elif (N1>N3 and N3>N2):\n",
        "  print(\"\",N1,\"-\",N3,\"-\",N2)\n",
        "elif (N2>N3 and N3>N1):\n",
        "  print(\"\",N2,\"-\",N3,\"-\",N1)\n",
        "else: \n",
        "  print(\"se ingresaron numeros iguales\")"
      ],
      "metadata": {
        "colab": {
          "base_uri": "https://localhost:8080/"
        },
        "id": "OU6bO2zF0j4D",
        "outputId": "d044c1b5-6cf1-4b34-80bb-c7f7dd0e603e"
      },
      "execution_count": 41,
      "outputs": [
        {
          "output_type": "stream",
          "name": "stdout",
          "text": [
            "escriba la edad del primer hermano45\n",
            "escriba la edad del segundo hermano45\n",
            "escriba la edad del tercer hermano45\n",
            "se ingresaron numeros iguales\n"
          ]
        }
      ]
    },
    {
      "cell_type": "code",
      "source": [
        "\n",
        "N1=str(input(\"Escribe tu nombre\"))\n",
        "cedula=str(input(\"Escribe la cédula: \"))\n",
        "patrimonio=float(input(\"Escribe tu patrimon del año : \"))\n",
        "ingresos=float(input(\"Escribe tus ingresos totales del respectivo ejercicio gravable: \"))\n",
        "if ingresos>=50831000  or patrimonio>=163386000 :\n",
        "  print(\"la persona \", N1, \"identificado con la cédula\", cedula, \"debe pagar el impuesto de renta\")\n",
        "else:\n",
        "  print(\"El ciudadano \", N1, \"identificado con la cédula\", cedula, \"no debe paagar el impuesto de renta\")\n"
      ],
      "metadata": {
        "colab": {
          "base_uri": "https://localhost:8080/"
        },
        "id": "iNrQ9N7c-Jq-",
        "outputId": "955a7a7f-2701-44fe-c836-6bd3d3361e51"
      },
      "execution_count": 44,
      "outputs": [
        {
          "output_type": "stream",
          "name": "stdout",
          "text": [
            "escribe tu cedula1005325408\n",
            "escribe tu salario2000000\n",
            "no debe pagar impuesto de renta\n"
          ]
        }
      ]
    },
    {
      "cell_type": "code",
      "source": [
        ""
      ],
      "metadata": {
        "id": "2c7kS4BKFuHL"
      },
      "execution_count": null,
      "outputs": []
    },
    {
      "cell_type": "code",
      "source": [
        "N1=(input(\"Escribe tu nombre\"))\n",
        "\n",
        "N2=int(input(\"escribe tu nota final\"))\n",
        "if 4.5<= N2 < 5: \n",
        "  print(\"está excento de presentar pruebas finales\")\n",
        "elif 3.5<N2<4.5:\n",
        "  print(\"presentará el examen y adicional presentara un trabajo\")\n",
        "elif 2<N2<3:\n",
        "  print(\"debera presentar habilitacion\")\n",
        "elif N2<2:\n",
        "  print(\"¡PERDIO LA MATERIA!\")"
      ],
      "metadata": {
        "colab": {
          "base_uri": "https://localhost:8080/"
        },
        "id": "hYS9eMbTDzpa",
        "outputId": "b86e9725-8a15-49f6-cee8-6ae94eeeb218"
      },
      "execution_count": 51,
      "outputs": [
        {
          "output_type": "stream",
          "name": "stdout",
          "text": [
            "Escribe tu nombred\n",
            "escribe tu nota final4\n",
            "presentará el examen y adicional presentara un trabajo\n"
          ]
        }
      ]
    }
  ]
}