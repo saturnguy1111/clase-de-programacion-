{
  "nbformat": 4,
  "nbformat_minor": 0,
  "metadata": {
    "colab": {
      "provenance": []
    },
    "kernelspec": {
      "name": "python3",
      "display_name": "Python 3"
    },
    "language_info": {
      "name": "python"
    }
  },
  "cells": [
    {
      "cell_type": "markdown",
      "source": [
        "GQ2\n",
        "Juan Sebastián Zambrano.\n",
        "\n",
        "Leandro Ezequiel Cortes.\n",
        "\n",
        "Daniel Alejandro Alarcón."
      ],
      "metadata": {
        "id": "mbJOEgUhhS3L"
      }
    },
    {
      "cell_type": "code",
      "execution_count": null,
      "metadata": {
        "id": "TcSu4P1KhDpr"
      },
      "outputs": [],
      "source": [
        "voc=[\"a\", \"e\", \"i\", \"o\", \"u\"]\n",
        "con=[\"b\", \"c\", \"d\", \"f\", \"g\", \"h\", \"j\", \"k\", \"l\", \"m\", \"n\", \"p\", \"q\", \"r\", \"s\", \"t\", \"v\", \"w\", \"x\", \"y\", \"z\"]"
      ]
    },
    {
      "cell_type": "code",
      "source": [
        "def invertir(a):\n",
        "  a.split(sep=' ')\n",
        "  ord=list(reversed(a.split(sep=' ')))\n",
        "  return (ord)"
      ],
      "metadata": {
        "id": "fRGzhsC4hbE7"
      },
      "execution_count": null,
      "outputs": []
    },
    {
      "cell_type": "code",
      "source": [
        "def decodificar(a):\n",
        "  b=\"\"\n",
        "  for letra in a:\n",
        "    if letra in voc:\n",
        "      posicion=voc.index(letra)\n",
        "      letra=voc[(posicion-2)]\n",
        "    elif letra in con:\n",
        "      posicion2=con.index(letra)\n",
        "      letra=con[(posicion2+1)]\n",
        "    else:\n",
        "      letra=letra\n",
        "    b+=letra\n",
        "  return(b)"
      ],
      "metadata": {
        "id": "GXaHq88FhbJj"
      },
      "execution_count": null,
      "outputs": []
    },
    {
      "cell_type": "code",
      "source": [
        "def codificar(a):\n",
        "  b=\"\"\n",
        "  for letra in a:\n",
        "    if letra in voc:\n",
        "      posicion=voc.index(letra)\n",
        "      letra=voc[(posicion+2)]\n",
        "    elif letra in con:\n",
        "      posicion2=con.index(letra)\n",
        "      letra=con[(posicion2-1)]\n",
        "    else:\n",
        "      letra=letra\n",
        "    b+=letra\n",
        "  return(b)"
      ],
      "metadata": {
        "id": "HxIlUhzRheRT"
      },
      "execution_count": null,
      "outputs": []
    },
    {
      "cell_type": "code",
      "source": [
        "men=input(\"Ingrese en mensaje: \")\n",
        "dec=decodificar(men)\n",
        "msj=invertir(dec)\n",
        "msj2=\" \".join(msj)\n",
        "print(msj2)"
      ],
      "metadata": {
        "id": "BVzAelkzhes7"
      },
      "execution_count": null,
      "outputs": []
    },
    {
      "cell_type": "code",
      "source": [
        "a=input(\"Ingrese en mensaje: \")\n",
        "cod=codificar(a)\n",
        "mj=invertir(cod)\n",
        "mj2=\" \".join(mj)\n",
        "print(mj2)"
      ],
      "metadata": {
        "id": "j9T1DB-VhhGb"
      },
      "execution_count": null,
      "outputs": []
    }
  ]
}