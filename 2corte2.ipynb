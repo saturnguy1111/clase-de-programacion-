{
  "nbformat": 4,
  "nbformat_minor": 0,
  "metadata": {
    "colab": {
      "provenance": []
    },
    "kernelspec": {
      "name": "python3",
      "display_name": "Python 3"
    },
    "language_info": {
      "name": "python"
    }
  },
  "cells": [
    {
      "cell_type": "code",
      "execution_count": null,
      "metadata": {
        "id": "CMTDQd38ukVK"
      },
      "outputs": [],
      "source": [
        "clases de funciones\n"
      ]
    },
    {
      "cell_type": "code",
      "source": [
        "def nombre_funcion (arguemnto):\n",
        "  código \n",
        "  return retorno"
      ],
      "metadata": {
        "id": "wfoxnPWPuuaX"
      },
      "execution_count": null,
      "outputs": []
    },
    {
      "cell_type": "code",
      "source": [
        "def multiplica_por5 (número): \n",
        "  print(f\"{número} * 5 ={número * 5}\")\n",
        "\n",
        "print('comoenza el programa')\n",
        "multiplica_por5 (7)\n",
        "print('siguiente')\n",
        "multiplica_por5(113)\n",
        "print('fin')"
      ],
      "metadata": {
        "id": "PC--vGEWuv2f"
      },
      "execution_count": null,
      "outputs": []
    },
    {
      "cell_type": "code",
      "source": [
        "#calculadora basica (+,-,*,/)\n",
        "valor1= int(input(\"ingrese el primer número\"))\n",
        "valor2= int(input(\"ingrese el segundo número\"))\n",
        "operador= input(\"ingrese la operación\")\n",
        "#hay tres parametros\n",
        "def calculadora(a,b,c):\n",
        "  if c == \"+\":\n",
        "    resultado = a+b \n",
        "  if c == \"-\":\n",
        "    resultado = a-b\n",
        "  if c == \"*\":\n",
        "    resultado = a*b\n",
        "  if c == \"/\":\n",
        "    resultado = a/b \n",
        "\n",
        "  print(\"el resultado es\", resultado) \n",
        "\n",
        "calculadora(valor1,valor2,operador)"
      ],
      "metadata": {
        "id": "Vr4jop9Wuxgf"
      },
      "execution_count": null,
      "outputs": []
    },
    {
      "cell_type": "markdown",
      "source": [
        "*FUNCIONES CON PARAMETROS *\n",
        "** Paso por valor:** Un lenguaje de programación que utiliza paso por valor de los argumentos, lo que realmente hace es copiar el valor de las variables en los respectivos parámetros. Cualquier modificación del valor del parámetro, no afecta a la variable externa correspondiente.\n",
        "Paso por referencia: Un lenguaje de programación que utiliza paso por referencia, lo que realmente hace es copiar en los parámetros la dirección de memoria de las variables que se usan como argumento. Esto implica que realmente hagan referencia al mismo objeto/elemento y cualquier modificación del valor en el parámetro afectará a la variable externa correspondiente."
      ],
      "metadata": {
        "id": "xm37xcrquzYn"
      }
    },
    {
      "cell_type": "code",
      "source": [
        "#funciones sin parametros con retorno \n",
        "def verificar (correo, contraseña):\n",
        "  if (correo == \"agonzalez92@unan.edu.co\" and contraseña ==\"123456789\"):\n",
        "    return True\n",
        "  else:\n",
        "    return False \n",
        "\n",
        "def principal():\n",
        "  correo=input(\"correo\")\n",
        "  contraseña=input(\"contraseña\")\n",
        "  login=verificar(correo, contraseña )\n",
        "  if(login == True):\n",
        "    print(\"bienvenido al sistema\") \n",
        "  else:\n",
        "    print(\"usuario incorrceto\")\n",
        "\n",
        "principal()"
      ],
      "metadata": {
        "id": "wUTLiiw1u0l-"
      },
      "execution_count": null,
      "outputs": []
    },
    {
      "cell_type": "code",
      "source": [
        "def calcularEdad(añoActual,AñoDeNacimiento,AñoAmigo):\n",
        "\tmiEdad = añoActual - AñoDeNacimiento\n",
        "\tedadDeMiAmigo = añoActual - AñoAmigo\n",
        "\treturn print(f\"Tengo {miEdad} años y mi mejor amigo(a) tiene {edadDeMiAmigo}\")\n",
        "\n",
        "añoActual=int(input(\"Ingrese el año actual: \"))\n",
        "AñoDeNacimiento=int(input(\"Ingrese su año de nacimiento: \"))\n",
        "AñoAmigo=int(input(\"Ingrese el año de nacimiento de su mejor amigo(a): \"))\n",
        "\n",
        "calcularEdad(añoActual,AñoDeNacimiento,AñoAmigo)"
      ],
      "metadata": {
        "id": "CXeUaBmDu3pv"
      },
      "execution_count": null,
      "outputs": []
    },
    {
      "cell_type": "markdown",
      "source": [],
      "metadata": {
        "id": "Gpp6o7c_unpX"
      }
    }
  ]
}